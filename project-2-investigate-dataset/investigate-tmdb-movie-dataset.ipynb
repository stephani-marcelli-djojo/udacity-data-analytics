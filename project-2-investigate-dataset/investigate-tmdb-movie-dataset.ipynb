{
 "cells": [
  {
   "cell_type": "markdown",
   "metadata": {},
   "source": [
    "# Project 2: Investigate TMDb Movie Dataset\n",
    "\n",
    "## Table of Contents\n",
    "<ul>\n",
    "<li><a href=\"#intro\">Introduction</a></li>\n",
    "<li><a href=\"#wrangling\">Data Wrangling</a>\n",
    "    <ul>\n",
    "    <li><a href=\"#wrangling\">General Properties</a></li>\n",
    "    <li><a href=\"#dc-missing\">Data Cleaning: Handling missing data</a></li>\n",
    "    <li><a href=\"#dc-dtype\">Data Cleaning: Fix wrong data type</a></li>\n",
    "    <li><a href=\"#dc-mvalues\">Data Cleaning: Tidy-up multiple values</a></li>\n",
    "    <li><a href=\"#dc-break-mvalues\">Data Cleaning: Break multiple values</a></li>\n",
    "    </ul>\n",
    "</li>\n",
    "<li><a href=\"#eda\">Exploratory Data Analysis</a></li>\n",
    "<li><a href=\"#conclusions\">Conclusions</a></li>\n",
    "<li><a href=\"#references\">References</a></li>\n",
    "</ul>"
   ]
  },
  {
   "cell_type": "markdown",
   "metadata": {},
   "source": [
    "<a id='intro'></a>\n",
    "## Introduction\n",
    "\n",
    "We will investigate TMDb movie data (source: <a href='https://www.kaggle.com/tmdb/tmdb-movie-metadata/data?select=tmdb_5000_movies.csv'>Kaggle</a>). This dataset contains information about 5,000 movies collected from The Movie Database (TMDb), including user ratings and revenue.\n",
    "\n",
    "We want to answer these questions by exploring that dataset:\n",
    "<ul>\n",
    "    <li>Question 1: Which genres are most popular from year to year?</li>\n",
    "    <li>Question 2: How distribution of movie budget and movie revenue?</li>\n",
    "    <li>Question 3: What kinds of properties are associated with movies that have high revenues?</li>\n",
    "</ul>"
   ]
  },
  {
   "cell_type": "markdown",
   "metadata": {},
   "source": [
    "First, set up import statements for all of the packages that we will use."
   ]
  },
  {
   "cell_type": "code",
   "execution_count": 1,
   "metadata": {},
   "outputs": [],
   "source": [
    "import pandas as pd\n",
    "import numpy as np\n",
    "import matplotlib.pyplot as plt\n",
    "import seaborn as sns\n",
    "\n",
    "%matplotlib inline"
   ]
  },
  {
   "cell_type": "markdown",
   "metadata": {},
   "source": [
    "---------------"
   ]
  },
  {
   "cell_type": "markdown",
   "metadata": {},
   "source": [
    "<a id='wrangling'></a>\n",
    "## Data Wrangling\n",
    "\n",
    "### General Properties"
   ]
  },
  {
   "cell_type": "markdown",
   "metadata": {},
   "source": [
    "**Load data** and print out a few lines."
   ]
  },
  {
   "cell_type": "code",
   "execution_count": 2,
   "metadata": {
    "scrolled": false
   },
   "outputs": [
    {
     "name": "stdout",
     "output_type": "stream",
     "text": [
      "(4803, 20)\n"
     ]
    },
    {
     "data": {
      "text/html": [
       "<div>\n",
       "<style scoped>\n",
       "    .dataframe tbody tr th:only-of-type {\n",
       "        vertical-align: middle;\n",
       "    }\n",
       "\n",
       "    .dataframe tbody tr th {\n",
       "        vertical-align: top;\n",
       "    }\n",
       "\n",
       "    .dataframe thead th {\n",
       "        text-align: right;\n",
       "    }\n",
       "</style>\n",
       "<table border=\"1\" class=\"dataframe\">\n",
       "  <thead>\n",
       "    <tr style=\"text-align: right;\">\n",
       "      <th></th>\n",
       "      <th>budget</th>\n",
       "      <th>genres</th>\n",
       "      <th>homepage</th>\n",
       "      <th>id</th>\n",
       "      <th>keywords</th>\n",
       "      <th>original_language</th>\n",
       "      <th>original_title</th>\n",
       "      <th>overview</th>\n",
       "      <th>popularity</th>\n",
       "      <th>production_companies</th>\n",
       "      <th>production_countries</th>\n",
       "      <th>release_date</th>\n",
       "      <th>revenue</th>\n",
       "      <th>runtime</th>\n",
       "      <th>spoken_languages</th>\n",
       "      <th>status</th>\n",
       "      <th>tagline</th>\n",
       "      <th>title</th>\n",
       "      <th>vote_average</th>\n",
       "      <th>vote_count</th>\n",
       "    </tr>\n",
       "  </thead>\n",
       "  <tbody>\n",
       "    <tr>\n",
       "      <th>0</th>\n",
       "      <td>237000000</td>\n",
       "      <td>[{\"id\": 28, \"name\": \"Action\"}, {\"id\": 12, \"nam...</td>\n",
       "      <td>http://www.avatarmovie.com/</td>\n",
       "      <td>19995</td>\n",
       "      <td>[{\"id\": 1463, \"name\": \"culture clash\"}, {\"id\":...</td>\n",
       "      <td>en</td>\n",
       "      <td>Avatar</td>\n",
       "      <td>In the 22nd century, a paraplegic Marine is di...</td>\n",
       "      <td>150.437577</td>\n",
       "      <td>[{\"name\": \"Ingenious Film Partners\", \"id\": 289...</td>\n",
       "      <td>[{\"iso_3166_1\": \"US\", \"name\": \"United States o...</td>\n",
       "      <td>2009-12-10</td>\n",
       "      <td>2787965087</td>\n",
       "      <td>162.0</td>\n",
       "      <td>[{\"iso_639_1\": \"en\", \"name\": \"English\"}, {\"iso...</td>\n",
       "      <td>Released</td>\n",
       "      <td>Enter the World of Pandora.</td>\n",
       "      <td>Avatar</td>\n",
       "      <td>7.2</td>\n",
       "      <td>11800</td>\n",
       "    </tr>\n",
       "    <tr>\n",
       "      <th>1</th>\n",
       "      <td>300000000</td>\n",
       "      <td>[{\"id\": 12, \"name\": \"Adventure\"}, {\"id\": 14, \"...</td>\n",
       "      <td>http://disney.go.com/disneypictures/pirates/</td>\n",
       "      <td>285</td>\n",
       "      <td>[{\"id\": 270, \"name\": \"ocean\"}, {\"id\": 726, \"na...</td>\n",
       "      <td>en</td>\n",
       "      <td>Pirates of the Caribbean: At World's End</td>\n",
       "      <td>Captain Barbossa, long believed to be dead, ha...</td>\n",
       "      <td>139.082615</td>\n",
       "      <td>[{\"name\": \"Walt Disney Pictures\", \"id\": 2}, {\"...</td>\n",
       "      <td>[{\"iso_3166_1\": \"US\", \"name\": \"United States o...</td>\n",
       "      <td>2007-05-19</td>\n",
       "      <td>961000000</td>\n",
       "      <td>169.0</td>\n",
       "      <td>[{\"iso_639_1\": \"en\", \"name\": \"English\"}]</td>\n",
       "      <td>Released</td>\n",
       "      <td>At the end of the world, the adventure begins.</td>\n",
       "      <td>Pirates of the Caribbean: At World's End</td>\n",
       "      <td>6.9</td>\n",
       "      <td>4500</td>\n",
       "    </tr>\n",
       "    <tr>\n",
       "      <th>2</th>\n",
       "      <td>245000000</td>\n",
       "      <td>[{\"id\": 28, \"name\": \"Action\"}, {\"id\": 12, \"nam...</td>\n",
       "      <td>http://www.sonypictures.com/movies/spectre/</td>\n",
       "      <td>206647</td>\n",
       "      <td>[{\"id\": 470, \"name\": \"spy\"}, {\"id\": 818, \"name...</td>\n",
       "      <td>en</td>\n",
       "      <td>Spectre</td>\n",
       "      <td>A cryptic message from Bond’s past sends him o...</td>\n",
       "      <td>107.376788</td>\n",
       "      <td>[{\"name\": \"Columbia Pictures\", \"id\": 5}, {\"nam...</td>\n",
       "      <td>[{\"iso_3166_1\": \"GB\", \"name\": \"United Kingdom\"...</td>\n",
       "      <td>2015-10-26</td>\n",
       "      <td>880674609</td>\n",
       "      <td>148.0</td>\n",
       "      <td>[{\"iso_639_1\": \"fr\", \"name\": \"Fran\\u00e7ais\"},...</td>\n",
       "      <td>Released</td>\n",
       "      <td>A Plan No One Escapes</td>\n",
       "      <td>Spectre</td>\n",
       "      <td>6.3</td>\n",
       "      <td>4466</td>\n",
       "    </tr>\n",
       "    <tr>\n",
       "      <th>3</th>\n",
       "      <td>250000000</td>\n",
       "      <td>[{\"id\": 28, \"name\": \"Action\"}, {\"id\": 80, \"nam...</td>\n",
       "      <td>http://www.thedarkknightrises.com/</td>\n",
       "      <td>49026</td>\n",
       "      <td>[{\"id\": 849, \"name\": \"dc comics\"}, {\"id\": 853,...</td>\n",
       "      <td>en</td>\n",
       "      <td>The Dark Knight Rises</td>\n",
       "      <td>Following the death of District Attorney Harve...</td>\n",
       "      <td>112.312950</td>\n",
       "      <td>[{\"name\": \"Legendary Pictures\", \"id\": 923}, {\"...</td>\n",
       "      <td>[{\"iso_3166_1\": \"US\", \"name\": \"United States o...</td>\n",
       "      <td>2012-07-16</td>\n",
       "      <td>1084939099</td>\n",
       "      <td>165.0</td>\n",
       "      <td>[{\"iso_639_1\": \"en\", \"name\": \"English\"}]</td>\n",
       "      <td>Released</td>\n",
       "      <td>The Legend Ends</td>\n",
       "      <td>The Dark Knight Rises</td>\n",
       "      <td>7.6</td>\n",
       "      <td>9106</td>\n",
       "    </tr>\n",
       "    <tr>\n",
       "      <th>4</th>\n",
       "      <td>260000000</td>\n",
       "      <td>[{\"id\": 28, \"name\": \"Action\"}, {\"id\": 12, \"nam...</td>\n",
       "      <td>http://movies.disney.com/john-carter</td>\n",
       "      <td>49529</td>\n",
       "      <td>[{\"id\": 818, \"name\": \"based on novel\"}, {\"id\":...</td>\n",
       "      <td>en</td>\n",
       "      <td>John Carter</td>\n",
       "      <td>John Carter is a war-weary, former military ca...</td>\n",
       "      <td>43.926995</td>\n",
       "      <td>[{\"name\": \"Walt Disney Pictures\", \"id\": 2}]</td>\n",
       "      <td>[{\"iso_3166_1\": \"US\", \"name\": \"United States o...</td>\n",
       "      <td>2012-03-07</td>\n",
       "      <td>284139100</td>\n",
       "      <td>132.0</td>\n",
       "      <td>[{\"iso_639_1\": \"en\", \"name\": \"English\"}]</td>\n",
       "      <td>Released</td>\n",
       "      <td>Lost in our world, found in another.</td>\n",
       "      <td>John Carter</td>\n",
       "      <td>6.1</td>\n",
       "      <td>2124</td>\n",
       "    </tr>\n",
       "  </tbody>\n",
       "</table>\n",
       "</div>"
      ],
      "text/plain": [
       "      budget                                             genres  \\\n",
       "0  237000000  [{\"id\": 28, \"name\": \"Action\"}, {\"id\": 12, \"nam...   \n",
       "1  300000000  [{\"id\": 12, \"name\": \"Adventure\"}, {\"id\": 14, \"...   \n",
       "2  245000000  [{\"id\": 28, \"name\": \"Action\"}, {\"id\": 12, \"nam...   \n",
       "3  250000000  [{\"id\": 28, \"name\": \"Action\"}, {\"id\": 80, \"nam...   \n",
       "4  260000000  [{\"id\": 28, \"name\": \"Action\"}, {\"id\": 12, \"nam...   \n",
       "\n",
       "                                       homepage      id  \\\n",
       "0                   http://www.avatarmovie.com/   19995   \n",
       "1  http://disney.go.com/disneypictures/pirates/     285   \n",
       "2   http://www.sonypictures.com/movies/spectre/  206647   \n",
       "3            http://www.thedarkknightrises.com/   49026   \n",
       "4          http://movies.disney.com/john-carter   49529   \n",
       "\n",
       "                                            keywords original_language  \\\n",
       "0  [{\"id\": 1463, \"name\": \"culture clash\"}, {\"id\":...                en   \n",
       "1  [{\"id\": 270, \"name\": \"ocean\"}, {\"id\": 726, \"na...                en   \n",
       "2  [{\"id\": 470, \"name\": \"spy\"}, {\"id\": 818, \"name...                en   \n",
       "3  [{\"id\": 849, \"name\": \"dc comics\"}, {\"id\": 853,...                en   \n",
       "4  [{\"id\": 818, \"name\": \"based on novel\"}, {\"id\":...                en   \n",
       "\n",
       "                             original_title  \\\n",
       "0                                    Avatar   \n",
       "1  Pirates of the Caribbean: At World's End   \n",
       "2                                   Spectre   \n",
       "3                     The Dark Knight Rises   \n",
       "4                               John Carter   \n",
       "\n",
       "                                            overview  popularity  \\\n",
       "0  In the 22nd century, a paraplegic Marine is di...  150.437577   \n",
       "1  Captain Barbossa, long believed to be dead, ha...  139.082615   \n",
       "2  A cryptic message from Bond’s past sends him o...  107.376788   \n",
       "3  Following the death of District Attorney Harve...  112.312950   \n",
       "4  John Carter is a war-weary, former military ca...   43.926995   \n",
       "\n",
       "                                production_companies  \\\n",
       "0  [{\"name\": \"Ingenious Film Partners\", \"id\": 289...   \n",
       "1  [{\"name\": \"Walt Disney Pictures\", \"id\": 2}, {\"...   \n",
       "2  [{\"name\": \"Columbia Pictures\", \"id\": 5}, {\"nam...   \n",
       "3  [{\"name\": \"Legendary Pictures\", \"id\": 923}, {\"...   \n",
       "4        [{\"name\": \"Walt Disney Pictures\", \"id\": 2}]   \n",
       "\n",
       "                                production_countries release_date     revenue  \\\n",
       "0  [{\"iso_3166_1\": \"US\", \"name\": \"United States o...   2009-12-10  2787965087   \n",
       "1  [{\"iso_3166_1\": \"US\", \"name\": \"United States o...   2007-05-19   961000000   \n",
       "2  [{\"iso_3166_1\": \"GB\", \"name\": \"United Kingdom\"...   2015-10-26   880674609   \n",
       "3  [{\"iso_3166_1\": \"US\", \"name\": \"United States o...   2012-07-16  1084939099   \n",
       "4  [{\"iso_3166_1\": \"US\", \"name\": \"United States o...   2012-03-07   284139100   \n",
       "\n",
       "   runtime                                   spoken_languages    status  \\\n",
       "0    162.0  [{\"iso_639_1\": \"en\", \"name\": \"English\"}, {\"iso...  Released   \n",
       "1    169.0           [{\"iso_639_1\": \"en\", \"name\": \"English\"}]  Released   \n",
       "2    148.0  [{\"iso_639_1\": \"fr\", \"name\": \"Fran\\u00e7ais\"},...  Released   \n",
       "3    165.0           [{\"iso_639_1\": \"en\", \"name\": \"English\"}]  Released   \n",
       "4    132.0           [{\"iso_639_1\": \"en\", \"name\": \"English\"}]  Released   \n",
       "\n",
       "                                          tagline  \\\n",
       "0                     Enter the World of Pandora.   \n",
       "1  At the end of the world, the adventure begins.   \n",
       "2                           A Plan No One Escapes   \n",
       "3                                 The Legend Ends   \n",
       "4            Lost in our world, found in another.   \n",
       "\n",
       "                                      title  vote_average  vote_count  \n",
       "0                                    Avatar           7.2       11800  \n",
       "1  Pirates of the Caribbean: At World's End           6.9        4500  \n",
       "2                                   Spectre           6.3        4466  \n",
       "3                     The Dark Knight Rises           7.6        9106  \n",
       "4                               John Carter           6.1        2124  "
      ]
     },
     "execution_count": 2,
     "metadata": {},
     "output_type": "execute_result"
    }
   ],
   "source": [
    "df_movie = pd.read_csv('../data/tmdb_movies/tmdb_5000_movies.csv')\n",
    "print(df_movie.shape)\n",
    "df_movie.head()"
   ]
  },
  {
   "cell_type": "markdown",
   "metadata": {},
   "source": [
    "Inspect **non-tidy** data.<br/>\n",
    "_Finding(s):_\n",
    "- _`genres`, `keywords`, `production_companies`, `production_countries`, `spoken_languages` contain multiple values. Should be cleaned to be more readable._"
   ]
  },
  {
   "cell_type": "markdown",
   "metadata": {},
   "source": [
    "Inspect **wrong data types**.<br/>\n",
    "_Finding(s):_\n",
    "- _`release_date` (str). Should be converted to date._\n",
    "- _`revenue`, `budget` (int). Data type for money value should be converted to float._"
   ]
  },
  {
   "cell_type": "code",
   "execution_count": 3,
   "metadata": {},
   "outputs": [
    {
     "data": {
      "text/plain": [
       "budget                    int64\n",
       "genres                   object\n",
       "homepage                 object\n",
       "id                        int64\n",
       "keywords                 object\n",
       "original_language        object\n",
       "original_title           object\n",
       "overview                 object\n",
       "popularity              float64\n",
       "production_companies     object\n",
       "production_countries     object\n",
       "release_date             object\n",
       "revenue                   int64\n",
       "runtime                 float64\n",
       "spoken_languages         object\n",
       "status                   object\n",
       "tagline                  object\n",
       "title                    object\n",
       "vote_average            float64\n",
       "vote_count                int64\n",
       "dtype: object"
      ]
     },
     "execution_count": 3,
     "metadata": {},
     "output_type": "execute_result"
    }
   ],
   "source": [
    "df_movie.dtypes"
   ]
  },
  {
   "cell_type": "markdown",
   "metadata": {},
   "source": [
    "Inspect **duplicated data**.<br/>\n",
    "_Finding(s): No duplicated data._"
   ]
  },
  {
   "cell_type": "code",
   "execution_count": 4,
   "metadata": {
    "scrolled": true
   },
   "outputs": [
    {
     "data": {
      "text/plain": [
       "False"
      ]
     },
     "execution_count": 4,
     "metadata": {},
     "output_type": "execute_result"
    }
   ],
   "source": [
    "df_movie.drop('id',axis=1).duplicated().any()"
   ]
  },
  {
   "cell_type": "markdown",
   "metadata": {},
   "source": [
    "Inspect **missing data**.<br/>\n",
    "_Finding(s): Missing data are exist on columns `homepage`, `overview`, `release_date`, `runtime`, `tagline`._"
   ]
  },
  {
   "cell_type": "code",
   "execution_count": 5,
   "metadata": {
    "scrolled": false
   },
   "outputs": [
    {
     "data": {
      "text/plain": [
       "budget                  False\n",
       "genres                  False\n",
       "homepage                 True\n",
       "id                      False\n",
       "keywords                False\n",
       "original_language       False\n",
       "original_title          False\n",
       "overview                 True\n",
       "popularity              False\n",
       "production_companies    False\n",
       "production_countries    False\n",
       "release_date             True\n",
       "revenue                 False\n",
       "runtime                  True\n",
       "spoken_languages        False\n",
       "status                  False\n",
       "tagline                  True\n",
       "title                   False\n",
       "vote_average            False\n",
       "vote_count              False\n",
       "dtype: bool"
      ]
     },
     "execution_count": 5,
     "metadata": {},
     "output_type": "execute_result"
    }
   ],
   "source": [
    "df_movie.isna().any()"
   ]
  },
  {
   "cell_type": "markdown",
   "metadata": {},
   "source": [
    "Inspect missing data on `release_date`.<br/>\n",
    "_Finding(s):_ <br/>\n",
    "- _We will remove 1 row which has missing value in `release_date` column._"
   ]
  },
  {
   "cell_type": "code",
   "execution_count": 6,
   "metadata": {},
   "outputs": [
    {
     "name": "stdout",
     "output_type": "stream",
     "text": [
      "1\n"
     ]
    },
    {
     "data": {
      "text/html": [
       "<div>\n",
       "<style scoped>\n",
       "    .dataframe tbody tr th:only-of-type {\n",
       "        vertical-align: middle;\n",
       "    }\n",
       "\n",
       "    .dataframe tbody tr th {\n",
       "        vertical-align: top;\n",
       "    }\n",
       "\n",
       "    .dataframe thead th {\n",
       "        text-align: right;\n",
       "    }\n",
       "</style>\n",
       "<table border=\"1\" class=\"dataframe\">\n",
       "  <thead>\n",
       "    <tr style=\"text-align: right;\">\n",
       "      <th></th>\n",
       "      <th>budget</th>\n",
       "      <th>genres</th>\n",
       "      <th>homepage</th>\n",
       "      <th>id</th>\n",
       "      <th>keywords</th>\n",
       "      <th>original_language</th>\n",
       "      <th>original_title</th>\n",
       "      <th>overview</th>\n",
       "      <th>popularity</th>\n",
       "      <th>production_companies</th>\n",
       "      <th>production_countries</th>\n",
       "      <th>release_date</th>\n",
       "      <th>revenue</th>\n",
       "      <th>runtime</th>\n",
       "      <th>spoken_languages</th>\n",
       "      <th>status</th>\n",
       "      <th>tagline</th>\n",
       "      <th>title</th>\n",
       "      <th>vote_average</th>\n",
       "      <th>vote_count</th>\n",
       "    </tr>\n",
       "  </thead>\n",
       "  <tbody>\n",
       "    <tr>\n",
       "      <th>4553</th>\n",
       "      <td>0</td>\n",
       "      <td>[]</td>\n",
       "      <td>NaN</td>\n",
       "      <td>380097</td>\n",
       "      <td>[]</td>\n",
       "      <td>en</td>\n",
       "      <td>America Is Still the Place</td>\n",
       "      <td>1971 post civil rights San Francisco seemed li...</td>\n",
       "      <td>0.0</td>\n",
       "      <td>[]</td>\n",
       "      <td>[]</td>\n",
       "      <td>NaN</td>\n",
       "      <td>0</td>\n",
       "      <td>0.0</td>\n",
       "      <td>[]</td>\n",
       "      <td>Released</td>\n",
       "      <td>NaN</td>\n",
       "      <td>America Is Still the Place</td>\n",
       "      <td>0.0</td>\n",
       "      <td>0</td>\n",
       "    </tr>\n",
       "  </tbody>\n",
       "</table>\n",
       "</div>"
      ],
      "text/plain": [
       "      budget genres homepage      id keywords original_language  \\\n",
       "4553       0     []      NaN  380097       []                en   \n",
       "\n",
       "                  original_title  \\\n",
       "4553  America Is Still the Place   \n",
       "\n",
       "                                               overview  popularity  \\\n",
       "4553  1971 post civil rights San Francisco seemed li...         0.0   \n",
       "\n",
       "     production_companies production_countries release_date  revenue  runtime  \\\n",
       "4553                   []                   []          NaN        0      0.0   \n",
       "\n",
       "     spoken_languages    status tagline                       title  \\\n",
       "4553               []  Released     NaN  America Is Still the Place   \n",
       "\n",
       "      vote_average  vote_count  \n",
       "4553           0.0           0  "
      ]
     },
     "execution_count": 6,
     "metadata": {},
     "output_type": "execute_result"
    }
   ],
   "source": [
    "print(df_movie['release_date'].isna().sum())\n",
    "df_movie[df_movie['release_date'].isna()]"
   ]
  },
  {
   "cell_type": "markdown",
   "metadata": {},
   "source": [
    "Inspect **unique values**."
   ]
  },
  {
   "cell_type": "code",
   "execution_count": 7,
   "metadata": {
    "scrolled": true
   },
   "outputs": [
    {
     "data": {
      "text/plain": [
       "3"
      ]
     },
     "execution_count": 7,
     "metadata": {},
     "output_type": "execute_result"
    }
   ],
   "source": [
    "df_movie['status'].nunique()"
   ]
  },
  {
   "cell_type": "code",
   "execution_count": 8,
   "metadata": {
    "scrolled": true
   },
   "outputs": [
    {
     "data": {
      "text/plain": [
       "array(['Released', 'Post Production', 'Rumored'], dtype=object)"
      ]
     },
     "execution_count": 8,
     "metadata": {},
     "output_type": "execute_result"
    }
   ],
   "source": [
    "df_movie['status'].unique()"
   ]
  },
  {
   "cell_type": "code",
   "execution_count": 9,
   "metadata": {
    "scrolled": true
   },
   "outputs": [
    {
     "name": "stdout",
     "output_type": "stream",
     "text": [
      "8\n"
     ]
    },
    {
     "data": {
      "text/html": [
       "<div>\n",
       "<style scoped>\n",
       "    .dataframe tbody tr th:only-of-type {\n",
       "        vertical-align: middle;\n",
       "    }\n",
       "\n",
       "    .dataframe tbody tr th {\n",
       "        vertical-align: top;\n",
       "    }\n",
       "\n",
       "    .dataframe thead th {\n",
       "        text-align: right;\n",
       "    }\n",
       "</style>\n",
       "<table border=\"1\" class=\"dataframe\">\n",
       "  <thead>\n",
       "    <tr style=\"text-align: right;\">\n",
       "      <th></th>\n",
       "      <th>budget</th>\n",
       "      <th>genres</th>\n",
       "      <th>homepage</th>\n",
       "      <th>id</th>\n",
       "      <th>keywords</th>\n",
       "      <th>original_language</th>\n",
       "      <th>original_title</th>\n",
       "      <th>overview</th>\n",
       "      <th>popularity</th>\n",
       "      <th>production_companies</th>\n",
       "      <th>production_countries</th>\n",
       "      <th>release_date</th>\n",
       "      <th>revenue</th>\n",
       "      <th>runtime</th>\n",
       "      <th>spoken_languages</th>\n",
       "      <th>status</th>\n",
       "      <th>tagline</th>\n",
       "      <th>title</th>\n",
       "      <th>vote_average</th>\n",
       "      <th>vote_count</th>\n",
       "    </tr>\n",
       "  </thead>\n",
       "  <tbody>\n",
       "    <tr>\n",
       "      <th>2906</th>\n",
       "      <td>0</td>\n",
       "      <td>[{\"id\": 18, \"name\": \"Drama\"}, {\"id\": 10749, \"n...</td>\n",
       "      <td>https://www.facebook.com/eastsidestorymovie</td>\n",
       "      <td>357837</td>\n",
       "      <td>[{\"id\": 246, \"name\": \"dancing\"}, {\"id\": 271, \"...</td>\n",
       "      <td>cs</td>\n",
       "      <td>Dancin' It's On</td>\n",
       "      <td>This coming of age Dance Film, in the spirit o...</td>\n",
       "      <td>0.186234</td>\n",
       "      <td>[]</td>\n",
       "      <td>[{\"iso_3166_1\": \"US\", \"name\": \"United States o...</td>\n",
       "      <td>2015-10-16</td>\n",
       "      <td>0</td>\n",
       "      <td>89.0</td>\n",
       "      <td>[{\"iso_639_1\": \"en\", \"name\": \"English\"}]</td>\n",
       "      <td>Post Production</td>\n",
       "      <td>Dancin' Like You've Never Seen Before</td>\n",
       "      <td>Dancin' It's On</td>\n",
       "      <td>4.3</td>\n",
       "      <td>2</td>\n",
       "    </tr>\n",
       "    <tr>\n",
       "      <th>4169</th>\n",
       "      <td>1900000</td>\n",
       "      <td>[{\"id\": 18, \"name\": \"Drama\"}]</td>\n",
       "      <td>NaN</td>\n",
       "      <td>295886</td>\n",
       "      <td>[]</td>\n",
       "      <td>en</td>\n",
       "      <td>Brotherly Love</td>\n",
       "      <td>West Philadelphia basketball star Sergio Taylo...</td>\n",
       "      <td>1.367751</td>\n",
       "      <td>[]</td>\n",
       "      <td>[]</td>\n",
       "      <td>2015-04-24</td>\n",
       "      <td>0</td>\n",
       "      <td>89.0</td>\n",
       "      <td>[{\"iso_639_1\": \"en\", \"name\": \"English\"}]</td>\n",
       "      <td>Post Production</td>\n",
       "      <td>NaN</td>\n",
       "      <td>Brotherly Love</td>\n",
       "      <td>6.9</td>\n",
       "      <td>21</td>\n",
       "    </tr>\n",
       "    <tr>\n",
       "      <th>4178</th>\n",
       "      <td>2000000</td>\n",
       "      <td>[{\"id\": 18, \"name\": \"Drama\"}, {\"id\": 53, \"name...</td>\n",
       "      <td>http://www.sonyclassics.com/higherground/</td>\n",
       "      <td>50875</td>\n",
       "      <td>[{\"id\": 1009, \"name\": \"baby\"}, {\"id\": 1157, \"n...</td>\n",
       "      <td>en</td>\n",
       "      <td>Higher Ground</td>\n",
       "      <td>A chronicle of one woman's lifelong struggle w...</td>\n",
       "      <td>1.699101</td>\n",
       "      <td>[]</td>\n",
       "      <td>[{\"iso_3166_1\": \"US\", \"name\": \"United States o...</td>\n",
       "      <td>2011-08-26</td>\n",
       "      <td>841733</td>\n",
       "      <td>109.0</td>\n",
       "      <td>[{\"iso_639_1\": \"en\", \"name\": \"English\"}]</td>\n",
       "      <td>Post Production</td>\n",
       "      <td>NaN</td>\n",
       "      <td>Higher Ground</td>\n",
       "      <td>5.3</td>\n",
       "      <td>14</td>\n",
       "    </tr>\n",
       "    <tr>\n",
       "      <th>4401</th>\n",
       "      <td>0</td>\n",
       "      <td>[{\"id\": 28, \"name\": \"Action\"}, {\"id\": 35, \"nam...</td>\n",
       "      <td>NaN</td>\n",
       "      <td>43630</td>\n",
       "      <td>[]</td>\n",
       "      <td>en</td>\n",
       "      <td>The Helix... Loaded</td>\n",
       "      <td></td>\n",
       "      <td>0.020600</td>\n",
       "      <td>[]</td>\n",
       "      <td>[{\"iso_3166_1\": \"US\", \"name\": \"United States o...</td>\n",
       "      <td>2005-01-01</td>\n",
       "      <td>0</td>\n",
       "      <td>97.0</td>\n",
       "      <td>[{\"iso_639_1\": \"en\", \"name\": \"English\"}]</td>\n",
       "      <td>Rumored</td>\n",
       "      <td>NaN</td>\n",
       "      <td>The Helix... Loaded</td>\n",
       "      <td>4.8</td>\n",
       "      <td>2</td>\n",
       "    </tr>\n",
       "    <tr>\n",
       "      <th>4453</th>\n",
       "      <td>0</td>\n",
       "      <td>[{\"id\": 35, \"name\": \"Comedy\"}, {\"id\": 18, \"nam...</td>\n",
       "      <td>NaN</td>\n",
       "      <td>57294</td>\n",
       "      <td>[{\"id\": 1930, \"name\": \"kidnapping\"}, {\"id\": 97...</td>\n",
       "      <td>en</td>\n",
       "      <td>Crying with Laughter</td>\n",
       "      <td>Powerfully redemptive and darkly comedic reven...</td>\n",
       "      <td>0.108135</td>\n",
       "      <td>[{\"name\": \"Scottish Screen\", \"id\": 698}, {\"nam...</td>\n",
       "      <td>[{\"iso_3166_1\": \"GB\", \"name\": \"United Kingdom\"}]</td>\n",
       "      <td>2009-06-01</td>\n",
       "      <td>0</td>\n",
       "      <td>93.0</td>\n",
       "      <td>[{\"iso_639_1\": \"en\", \"name\": \"English\"}]</td>\n",
       "      <td>Rumored</td>\n",
       "      <td>A Bad Trip Down Memory Lane</td>\n",
       "      <td>Crying with Laughter</td>\n",
       "      <td>7.0</td>\n",
       "      <td>1</td>\n",
       "    </tr>\n",
       "    <tr>\n",
       "      <th>4508</th>\n",
       "      <td>56000</td>\n",
       "      <td>[{\"id\": 99, \"name\": \"Documentary\"}]</td>\n",
       "      <td>http://www.facebook.com/theharvestfilm</td>\n",
       "      <td>70875</td>\n",
       "      <td>[{\"id\": 1729, \"name\": \"migration\"}, {\"id\": 190...</td>\n",
       "      <td>en</td>\n",
       "      <td>The Harvest (La Cosecha)</td>\n",
       "      <td>The story of the children who work 12-14 hour ...</td>\n",
       "      <td>0.010909</td>\n",
       "      <td>[]</td>\n",
       "      <td>[]</td>\n",
       "      <td>2011-07-29</td>\n",
       "      <td>0</td>\n",
       "      <td>80.0</td>\n",
       "      <td>[]</td>\n",
       "      <td>Rumored</td>\n",
       "      <td>NaN</td>\n",
       "      <td>The Harvest (La Cosecha)</td>\n",
       "      <td>0.0</td>\n",
       "      <td>0</td>\n",
       "    </tr>\n",
       "    <tr>\n",
       "      <th>4662</th>\n",
       "      <td>0</td>\n",
       "      <td>[{\"id\": 35, \"name\": \"Comedy\"}]</td>\n",
       "      <td>NaN</td>\n",
       "      <td>40963</td>\n",
       "      <td>[{\"id\": 10183, \"name\": \"independent film\"}]</td>\n",
       "      <td>en</td>\n",
       "      <td>Little Big Top</td>\n",
       "      <td>An aging out of work clown returns to his smal...</td>\n",
       "      <td>0.092100</td>\n",
       "      <td>[{\"name\": \"Fly High Films\", \"id\": 24248}]</td>\n",
       "      <td>[{\"iso_3166_1\": \"US\", \"name\": \"United States o...</td>\n",
       "      <td>2006-01-01</td>\n",
       "      <td>0</td>\n",
       "      <td>0.0</td>\n",
       "      <td>[{\"iso_639_1\": \"en\", \"name\": \"English\"}]</td>\n",
       "      <td>Rumored</td>\n",
       "      <td>NaN</td>\n",
       "      <td>Little Big Top</td>\n",
       "      <td>10.0</td>\n",
       "      <td>1</td>\n",
       "    </tr>\n",
       "    <tr>\n",
       "      <th>4754</th>\n",
       "      <td>0</td>\n",
       "      <td>[{\"id\": 18, \"name\": \"Drama\"}, {\"id\": 35, \"name...</td>\n",
       "      <td>NaN</td>\n",
       "      <td>84659</td>\n",
       "      <td>[]</td>\n",
       "      <td>en</td>\n",
       "      <td>The Naked Ape</td>\n",
       "      <td>The Naked Ape is a coming-of-age film followin...</td>\n",
       "      <td>0.077577</td>\n",
       "      <td>[]</td>\n",
       "      <td>[]</td>\n",
       "      <td>2006-09-16</td>\n",
       "      <td>0</td>\n",
       "      <td>110.0</td>\n",
       "      <td>[]</td>\n",
       "      <td>Rumored</td>\n",
       "      <td>NaN</td>\n",
       "      <td>The Naked Ape</td>\n",
       "      <td>5.0</td>\n",
       "      <td>1</td>\n",
       "    </tr>\n",
       "  </tbody>\n",
       "</table>\n",
       "</div>"
      ],
      "text/plain": [
       "       budget                                             genres  \\\n",
       "2906        0  [{\"id\": 18, \"name\": \"Drama\"}, {\"id\": 10749, \"n...   \n",
       "4169  1900000                      [{\"id\": 18, \"name\": \"Drama\"}]   \n",
       "4178  2000000  [{\"id\": 18, \"name\": \"Drama\"}, {\"id\": 53, \"name...   \n",
       "4401        0  [{\"id\": 28, \"name\": \"Action\"}, {\"id\": 35, \"nam...   \n",
       "4453        0  [{\"id\": 35, \"name\": \"Comedy\"}, {\"id\": 18, \"nam...   \n",
       "4508    56000                [{\"id\": 99, \"name\": \"Documentary\"}]   \n",
       "4662        0                     [{\"id\": 35, \"name\": \"Comedy\"}]   \n",
       "4754        0  [{\"id\": 18, \"name\": \"Drama\"}, {\"id\": 35, \"name...   \n",
       "\n",
       "                                         homepage      id  \\\n",
       "2906  https://www.facebook.com/eastsidestorymovie  357837   \n",
       "4169                                          NaN  295886   \n",
       "4178    http://www.sonyclassics.com/higherground/   50875   \n",
       "4401                                          NaN   43630   \n",
       "4453                                          NaN   57294   \n",
       "4508       http://www.facebook.com/theharvestfilm   70875   \n",
       "4662                                          NaN   40963   \n",
       "4754                                          NaN   84659   \n",
       "\n",
       "                                               keywords original_language  \\\n",
       "2906  [{\"id\": 246, \"name\": \"dancing\"}, {\"id\": 271, \"...                cs   \n",
       "4169                                                 []                en   \n",
       "4178  [{\"id\": 1009, \"name\": \"baby\"}, {\"id\": 1157, \"n...                en   \n",
       "4401                                                 []                en   \n",
       "4453  [{\"id\": 1930, \"name\": \"kidnapping\"}, {\"id\": 97...                en   \n",
       "4508  [{\"id\": 1729, \"name\": \"migration\"}, {\"id\": 190...                en   \n",
       "4662        [{\"id\": 10183, \"name\": \"independent film\"}]                en   \n",
       "4754                                                 []                en   \n",
       "\n",
       "                original_title  \\\n",
       "2906           Dancin' It's On   \n",
       "4169            Brotherly Love   \n",
       "4178             Higher Ground   \n",
       "4401       The Helix... Loaded   \n",
       "4453      Crying with Laughter   \n",
       "4508  The Harvest (La Cosecha)   \n",
       "4662            Little Big Top   \n",
       "4754             The Naked Ape   \n",
       "\n",
       "                                               overview  popularity  \\\n",
       "2906  This coming of age Dance Film, in the spirit o...    0.186234   \n",
       "4169  West Philadelphia basketball star Sergio Taylo...    1.367751   \n",
       "4178  A chronicle of one woman's lifelong struggle w...    1.699101   \n",
       "4401                                                       0.020600   \n",
       "4453  Powerfully redemptive and darkly comedic reven...    0.108135   \n",
       "4508  The story of the children who work 12-14 hour ...    0.010909   \n",
       "4662  An aging out of work clown returns to his smal...    0.092100   \n",
       "4754  The Naked Ape is a coming-of-age film followin...    0.077577   \n",
       "\n",
       "                                   production_companies  \\\n",
       "2906                                                 []   \n",
       "4169                                                 []   \n",
       "4178                                                 []   \n",
       "4401                                                 []   \n",
       "4453  [{\"name\": \"Scottish Screen\", \"id\": 698}, {\"nam...   \n",
       "4508                                                 []   \n",
       "4662          [{\"name\": \"Fly High Films\", \"id\": 24248}]   \n",
       "4754                                                 []   \n",
       "\n",
       "                                   production_countries release_date  revenue  \\\n",
       "2906  [{\"iso_3166_1\": \"US\", \"name\": \"United States o...   2015-10-16        0   \n",
       "4169                                                 []   2015-04-24        0   \n",
       "4178  [{\"iso_3166_1\": \"US\", \"name\": \"United States o...   2011-08-26   841733   \n",
       "4401  [{\"iso_3166_1\": \"US\", \"name\": \"United States o...   2005-01-01        0   \n",
       "4453   [{\"iso_3166_1\": \"GB\", \"name\": \"United Kingdom\"}]   2009-06-01        0   \n",
       "4508                                                 []   2011-07-29        0   \n",
       "4662  [{\"iso_3166_1\": \"US\", \"name\": \"United States o...   2006-01-01        0   \n",
       "4754                                                 []   2006-09-16        0   \n",
       "\n",
       "      runtime                          spoken_languages           status  \\\n",
       "2906     89.0  [{\"iso_639_1\": \"en\", \"name\": \"English\"}]  Post Production   \n",
       "4169     89.0  [{\"iso_639_1\": \"en\", \"name\": \"English\"}]  Post Production   \n",
       "4178    109.0  [{\"iso_639_1\": \"en\", \"name\": \"English\"}]  Post Production   \n",
       "4401     97.0  [{\"iso_639_1\": \"en\", \"name\": \"English\"}]          Rumored   \n",
       "4453     93.0  [{\"iso_639_1\": \"en\", \"name\": \"English\"}]          Rumored   \n",
       "4508     80.0                                        []          Rumored   \n",
       "4662      0.0  [{\"iso_639_1\": \"en\", \"name\": \"English\"}]          Rumored   \n",
       "4754    110.0                                        []          Rumored   \n",
       "\n",
       "                                    tagline                     title  \\\n",
       "2906  Dancin' Like You've Never Seen Before           Dancin' It's On   \n",
       "4169                                    NaN            Brotherly Love   \n",
       "4178                                    NaN             Higher Ground   \n",
       "4401                                    NaN       The Helix... Loaded   \n",
       "4453            A Bad Trip Down Memory Lane      Crying with Laughter   \n",
       "4508                                    NaN  The Harvest (La Cosecha)   \n",
       "4662                                    NaN            Little Big Top   \n",
       "4754                                    NaN             The Naked Ape   \n",
       "\n",
       "      vote_average  vote_count  \n",
       "2906           4.3           2  \n",
       "4169           6.9          21  \n",
       "4178           5.3          14  \n",
       "4401           4.8           2  \n",
       "4453           7.0           1  \n",
       "4508           0.0           0  \n",
       "4662          10.0           1  \n",
       "4754           5.0           1  "
      ]
     },
     "execution_count": 9,
     "metadata": {},
     "output_type": "execute_result"
    }
   ],
   "source": [
    "print(df_movie['status'].isin(['Post Production','Rumored']).sum())\n",
    "df_movie[df_movie['status'].isin(['Post Production','Rumored'])]"
   ]
  },
  {
   "cell_type": "markdown",
   "metadata": {},
   "source": [
    "Inspect **wrong value data.**<br/>\n",
    "_Finding(s):_\n",
    "- There are 0 value(s) on `budget` column. We will investigate further.\n",
    "- There are 0 value(s) on `runtime` columns. We will investigate further.\n",
    "- 25% of observations have 0 revenue. We will investigate further."
   ]
  },
  {
   "cell_type": "code",
   "execution_count": 10,
   "metadata": {
    "scrolled": true
   },
   "outputs": [
    {
     "data": {
      "text/html": [
       "<div>\n",
       "<style scoped>\n",
       "    .dataframe tbody tr th:only-of-type {\n",
       "        vertical-align: middle;\n",
       "    }\n",
       "\n",
       "    .dataframe tbody tr th {\n",
       "        vertical-align: top;\n",
       "    }\n",
       "\n",
       "    .dataframe thead th {\n",
       "        text-align: right;\n",
       "    }\n",
       "</style>\n",
       "<table border=\"1\" class=\"dataframe\">\n",
       "  <thead>\n",
       "    <tr style=\"text-align: right;\">\n",
       "      <th></th>\n",
       "      <th>budget</th>\n",
       "      <th>id</th>\n",
       "      <th>popularity</th>\n",
       "      <th>revenue</th>\n",
       "      <th>runtime</th>\n",
       "      <th>vote_average</th>\n",
       "      <th>vote_count</th>\n",
       "    </tr>\n",
       "  </thead>\n",
       "  <tbody>\n",
       "    <tr>\n",
       "      <th>count</th>\n",
       "      <td>4.803000e+03</td>\n",
       "      <td>4803.000000</td>\n",
       "      <td>4803.000000</td>\n",
       "      <td>4.803000e+03</td>\n",
       "      <td>4801.000000</td>\n",
       "      <td>4803.000000</td>\n",
       "      <td>4803.000000</td>\n",
       "    </tr>\n",
       "    <tr>\n",
       "      <th>mean</th>\n",
       "      <td>2.904504e+07</td>\n",
       "      <td>57165.484281</td>\n",
       "      <td>21.492301</td>\n",
       "      <td>8.226064e+07</td>\n",
       "      <td>106.875859</td>\n",
       "      <td>6.092172</td>\n",
       "      <td>690.217989</td>\n",
       "    </tr>\n",
       "    <tr>\n",
       "      <th>std</th>\n",
       "      <td>4.072239e+07</td>\n",
       "      <td>88694.614033</td>\n",
       "      <td>31.816650</td>\n",
       "      <td>1.628571e+08</td>\n",
       "      <td>22.611935</td>\n",
       "      <td>1.194612</td>\n",
       "      <td>1234.585891</td>\n",
       "    </tr>\n",
       "    <tr>\n",
       "      <th>min</th>\n",
       "      <td>0.000000e+00</td>\n",
       "      <td>5.000000</td>\n",
       "      <td>0.000000</td>\n",
       "      <td>0.000000e+00</td>\n",
       "      <td>0.000000</td>\n",
       "      <td>0.000000</td>\n",
       "      <td>0.000000</td>\n",
       "    </tr>\n",
       "    <tr>\n",
       "      <th>25%</th>\n",
       "      <td>7.900000e+05</td>\n",
       "      <td>9014.500000</td>\n",
       "      <td>4.668070</td>\n",
       "      <td>0.000000e+00</td>\n",
       "      <td>94.000000</td>\n",
       "      <td>5.600000</td>\n",
       "      <td>54.000000</td>\n",
       "    </tr>\n",
       "    <tr>\n",
       "      <th>50%</th>\n",
       "      <td>1.500000e+07</td>\n",
       "      <td>14629.000000</td>\n",
       "      <td>12.921594</td>\n",
       "      <td>1.917000e+07</td>\n",
       "      <td>103.000000</td>\n",
       "      <td>6.200000</td>\n",
       "      <td>235.000000</td>\n",
       "    </tr>\n",
       "    <tr>\n",
       "      <th>75%</th>\n",
       "      <td>4.000000e+07</td>\n",
       "      <td>58610.500000</td>\n",
       "      <td>28.313505</td>\n",
       "      <td>9.291719e+07</td>\n",
       "      <td>118.000000</td>\n",
       "      <td>6.800000</td>\n",
       "      <td>737.000000</td>\n",
       "    </tr>\n",
       "    <tr>\n",
       "      <th>max</th>\n",
       "      <td>3.800000e+08</td>\n",
       "      <td>459488.000000</td>\n",
       "      <td>875.581305</td>\n",
       "      <td>2.787965e+09</td>\n",
       "      <td>338.000000</td>\n",
       "      <td>10.000000</td>\n",
       "      <td>13752.000000</td>\n",
       "    </tr>\n",
       "  </tbody>\n",
       "</table>\n",
       "</div>"
      ],
      "text/plain": [
       "             budget             id   popularity       revenue      runtime  \\\n",
       "count  4.803000e+03    4803.000000  4803.000000  4.803000e+03  4801.000000   \n",
       "mean   2.904504e+07   57165.484281    21.492301  8.226064e+07   106.875859   \n",
       "std    4.072239e+07   88694.614033    31.816650  1.628571e+08    22.611935   \n",
       "min    0.000000e+00       5.000000     0.000000  0.000000e+00     0.000000   \n",
       "25%    7.900000e+05    9014.500000     4.668070  0.000000e+00    94.000000   \n",
       "50%    1.500000e+07   14629.000000    12.921594  1.917000e+07   103.000000   \n",
       "75%    4.000000e+07   58610.500000    28.313505  9.291719e+07   118.000000   \n",
       "max    3.800000e+08  459488.000000   875.581305  2.787965e+09   338.000000   \n",
       "\n",
       "       vote_average    vote_count  \n",
       "count   4803.000000   4803.000000  \n",
       "mean       6.092172    690.217989  \n",
       "std        1.194612   1234.585891  \n",
       "min        0.000000      0.000000  \n",
       "25%        5.600000     54.000000  \n",
       "50%        6.200000    235.000000  \n",
       "75%        6.800000    737.000000  \n",
       "max       10.000000  13752.000000  "
      ]
     },
     "execution_count": 10,
     "metadata": {},
     "output_type": "execute_result"
    }
   ],
   "source": [
    "df_movie.describe()"
   ]
  },
  {
   "cell_type": "markdown",
   "metadata": {},
   "source": [
    "Investigate wrong value on `budget` column.<br/>\n",
    "_Finding(s):_\n",
    "<ul>\n",
    "<li>Right skewed distribution.</li>\n",
    "<li>If we assume the busget of producing a movie is greater than or equal to \\$1000 UDS, we found that there are 1069 observations which have wrong value.</li>\n",
    "<li>We should remove observation data which have budget less than \\$1000 USD.</li>\n",
    "</ul>"
   ]
  },
  {
   "cell_type": "code",
   "execution_count": 11,
   "metadata": {},
   "outputs": [
    {
     "data": {
      "image/png": "[encoded data removed]",
      "text/plain": [
       "<Figure size 432x288 with 1 Axes>"
      ]
     },
     "metadata": {
      "needs_background": "light"
     },
     "output_type": "display_data"
    }
   ],
   "source": [
    "df_movie['budget'].hist(bins=20);"
   ]
  },
  {
   "cell_type": "code",
   "execution_count": 12,
   "metadata": {
    "scrolled": false
   },
   "outputs": [
    {
     "name": "stdout",
     "output_type": "stream",
     "text": [
      "count    1069.000000\n",
      "mean        2.413471\n",
      "std        29.284528\n",
      "min         0.000000\n",
      "25%         0.000000\n",
      "50%         0.000000\n",
      "75%         0.000000\n",
      "max       650.000000\n",
      "Name: budget, dtype: float64\n",
      "There are 1069 observations which their budget less than $1000 USD.\n"
     ]
    },
    {
     "data": {
      "image/png": "[encoded data removed]",
      "text/plain": [
       "<Figure size 432x288 with 1 Axes>"
      ]
     },
     "metadata": {
      "needs_background": "light"
     },
     "output_type": "display_data"
    }
   ],
   "source": [
    "data = df_movie[df_movie['budget']<1000]\n",
    "print(data.budget.describe())\n",
    "print('There are {} observations which their budget less than $1000 USD.'. format(data.shape[0]))\n",
    "data.budget.hist(bins=40);"
   ]
  },
  {
   "cell_type": "markdown",
   "metadata": {},
   "source": [
    "Inspect another wrong value after we exclude observations which have budget less than $1000 USD.\n",
    "- There are still 0 value(s) on `runtime` columns. We will investigate further.\n",
    "- There are still 0 value(s) on `revenue` columns. We will investigate further."
   ]
  },
  {
   "cell_type": "code",
   "execution_count": 13,
   "metadata": {
    "scrolled": true
   },
   "outputs": [
    {
     "data": {
      "text/html": [
       "<div>\n",
       "<style scoped>\n",
       "    .dataframe tbody tr th:only-of-type {\n",
       "        vertical-align: middle;\n",
       "    }\n",
       "\n",
       "    .dataframe tbody tr th {\n",
       "        vertical-align: top;\n",
       "    }\n",
       "\n",
       "    .dataframe thead th {\n",
       "        text-align: right;\n",
       "    }\n",
       "</style>\n",
       "<table border=\"1\" class=\"dataframe\">\n",
       "  <thead>\n",
       "    <tr style=\"text-align: right;\">\n",
       "      <th></th>\n",
       "      <th>budget</th>\n",
       "      <th>id</th>\n",
       "      <th>popularity</th>\n",
       "      <th>revenue</th>\n",
       "      <th>runtime</th>\n",
       "      <th>vote_average</th>\n",
       "      <th>vote_count</th>\n",
       "    </tr>\n",
       "  </thead>\n",
       "  <tbody>\n",
       "    <tr>\n",
       "      <th>count</th>\n",
       "      <td>3.734000e+03</td>\n",
       "      <td>3734.000000</td>\n",
       "      <td>3734.000000</td>\n",
       "      <td>3.734000e+03</td>\n",
       "      <td>3733.000000</td>\n",
       "      <td>3734.000000</td>\n",
       "      <td>3734.000000</td>\n",
       "    </tr>\n",
       "    <tr>\n",
       "      <th>mean</th>\n",
       "      <td>3.736029e+07</td>\n",
       "      <td>49661.312266</td>\n",
       "      <td>26.175080</td>\n",
       "      <td>1.048403e+08</td>\n",
       "      <td>109.433432</td>\n",
       "      <td>6.234574</td>\n",
       "      <td>863.242367</td>\n",
       "    </tr>\n",
       "    <tr>\n",
       "      <th>std</th>\n",
       "      <td>4.269019e+07</td>\n",
       "      <td>81330.797901</td>\n",
       "      <td>34.519705</td>\n",
       "      <td>1.781406e+08</td>\n",
       "      <td>20.752011</td>\n",
       "      <td>0.939710</td>\n",
       "      <td>1348.480126</td>\n",
       "    </tr>\n",
       "    <tr>\n",
       "      <th>min</th>\n",
       "      <td>7.000000e+03</td>\n",
       "      <td>5.000000</td>\n",
       "      <td>0.001586</td>\n",
       "      <td>0.000000e+00</td>\n",
       "      <td>0.000000</td>\n",
       "      <td>0.000000</td>\n",
       "      <td>0.000000</td>\n",
       "    </tr>\n",
       "    <tr>\n",
       "      <th>25%</th>\n",
       "      <td>8.550000e+06</td>\n",
       "      <td>6972.250000</td>\n",
       "      <td>8.185175</td>\n",
       "      <td>6.743080e+06</td>\n",
       "      <td>95.000000</td>\n",
       "      <td>5.700000</td>\n",
       "      <td>119.000000</td>\n",
       "    </tr>\n",
       "    <tr>\n",
       "      <th>50%</th>\n",
       "      <td>2.330000e+07</td>\n",
       "      <td>11972.000000</td>\n",
       "      <td>17.709494</td>\n",
       "      <td>3.944905e+07</td>\n",
       "      <td>106.000000</td>\n",
       "      <td>6.300000</td>\n",
       "      <td>371.500000</td>\n",
       "    </tr>\n",
       "    <tr>\n",
       "      <th>75%</th>\n",
       "      <td>5.000000e+07</td>\n",
       "      <td>49048.500000</td>\n",
       "      <td>34.065604</td>\n",
       "      <td>1.226245e+08</td>\n",
       "      <td>120.000000</td>\n",
       "      <td>6.900000</td>\n",
       "      <td>978.000000</td>\n",
       "    </tr>\n",
       "    <tr>\n",
       "      <th>max</th>\n",
       "      <td>3.800000e+08</td>\n",
       "      <td>417859.000000</td>\n",
       "      <td>875.581305</td>\n",
       "      <td>2.787965e+09</td>\n",
       "      <td>338.000000</td>\n",
       "      <td>8.500000</td>\n",
       "      <td>13752.000000</td>\n",
       "    </tr>\n",
       "  </tbody>\n",
       "</table>\n",
       "</div>"
      ],
      "text/plain": [
       "             budget             id   popularity       revenue      runtime  \\\n",
       "count  3.734000e+03    3734.000000  3734.000000  3.734000e+03  3733.000000   \n",
       "mean   3.736029e+07   49661.312266    26.175080  1.048403e+08   109.433432   \n",
       "std    4.269019e+07   81330.797901    34.519705  1.781406e+08    20.752011   \n",
       "min    7.000000e+03       5.000000     0.001586  0.000000e+00     0.000000   \n",
       "25%    8.550000e+06    6972.250000     8.185175  6.743080e+06    95.000000   \n",
       "50%    2.330000e+07   11972.000000    17.709494  3.944905e+07   106.000000   \n",
       "75%    5.000000e+07   49048.500000    34.065604  1.226245e+08   120.000000   \n",
       "max    3.800000e+08  417859.000000   875.581305  2.787965e+09   338.000000   \n",
       "\n",
       "       vote_average    vote_count  \n",
       "count   3734.000000   3734.000000  \n",
       "mean       6.234574    863.242367  \n",
       "std        0.939710   1348.480126  \n",
       "min        0.000000      0.000000  \n",
       "25%        5.700000    119.000000  \n",
       "50%        6.300000    371.500000  \n",
       "75%        6.900000    978.000000  \n",
       "max        8.500000  13752.000000  "
      ]
     },
     "execution_count": 13,
     "metadata": {},
     "output_type": "execute_result"
    }
   ],
   "source": [
    "df_movie[df_movie['budget']>=1000].describe()"
   ]
  },
  {
   "cell_type": "markdown",
   "metadata": {},
   "source": [
    "Investigate wrong value on `runtime` column.<br/>\n",
    "_Finding(s):_\n",
    "<ul>\n",
    "<li>If we remove observations which have 0 budget, we found there are 2 observations which have runtime equal to 0.</li>\n",
    "<li>We will replace 0 value for those 2 observations by None.</li>\n",
    "</ul>"
   ]
  },
  {
   "cell_type": "code",
   "execution_count": 14,
   "metadata": {},
   "outputs": [
    {
     "data": {
      "image/png": "[encoded data removed]",
      "text/plain": [
       "<Figure size 432x288 with 1 Axes>"
      ]
     },
     "metadata": {
      "needs_background": "light"
     },
     "output_type": "display_data"
    }
   ],
   "source": [
    "data = df_movie.query('budget>=1000')\n",
    "data.runtime.hist(bins=20);"
   ]
  },
  {
   "cell_type": "code",
   "execution_count": 15,
   "metadata": {
    "scrolled": false
   },
   "outputs": [
    {
     "name": "stdout",
     "output_type": "stream",
     "text": [
      "There are 2 observations which their runtime equal to 0.\n"
     ]
    },
    {
     "data": {
      "image/png": "[encoded data removed]",
      "text/plain": [
       "<Figure size 432x288 with 1 Axes>"
      ]
     },
     "metadata": {
      "needs_background": "light"
     },
     "output_type": "display_data"
    }
   ],
   "source": [
    "# Investigate observations which have runtime less than 95 mins (1st quartile)\n",
    "data = df_movie.query('budget>=1000 and runtime<95')\n",
    "data.runtime.hist(bins=20);\n",
    "print('There are {} observations which their runtime equal to 0.'. format(data[data['runtime']==0].shape[0]))"
   ]
  },
  {
   "cell_type": "markdown",
   "metadata": {},
   "source": [
    "Investigate wrong value on `revenue` column.<br/>\n",
    "_Finding(s):_\n",
    "<ul>\n",
    "<li>There are 518 observations which have 0 revenue.</li>\n",
    "<li>Zero revenue is possible where discount is higher or equal to selling price. Therefore, we will not remove observations which have 0 revenue.</li>\n",
    "</ul>"
   ]
  },
  {
   "cell_type": "code",
   "execution_count": 16,
   "metadata": {},
   "outputs": [
    {
     "data": {
      "text/plain": [
       "count    3.216000e+03\n",
       "mean     1.217269e+08\n",
       "std      1.865231e+08\n",
       "min      7.000000e+00\n",
       "25%      1.727864e+07\n",
       "50%      5.564561e+07\n",
       "75%      1.471350e+08\n",
       "max      2.787965e+09\n",
       "Name: revenue, dtype: float64"
      ]
     },
     "execution_count": 16,
     "metadata": {},
     "output_type": "execute_result"
    }
   ],
   "source": [
    "df_movie.query('budget>=1000 and revenue>0').revenue.describe()"
   ]
  },
  {
   "cell_type": "markdown",
   "metadata": {},
   "source": [
    "<a id='dc-missing'></a>\n",
    "### Data Cleaning: Handling missing data"
   ]
  },
  {
   "cell_type": "markdown",
   "metadata": {},
   "source": [
    "**Remove row(s)** which missing data `release_date` and wrong value `budget` and **copy subset dataframe**."
   ]
  },
  {
   "cell_type": "code",
   "execution_count": 17,
   "metadata": {},
   "outputs": [],
   "source": [
    "ind_na = df_movie[df_movie['release_date'].isna()].index\n",
    "ind_wv = df_movie.query('budget<1000').index\n",
    "ind = set(ind_wv.append(ind_na))"
   ]
  },
  {
   "cell_type": "code",
   "execution_count": 18,
   "metadata": {},
   "outputs": [],
   "source": [
    "def copy_subset_df(cols):\n",
    "    return df_movie.drop(ind, axis=0)[cols].copy()"
   ]
  },
  {
   "cell_type": "code",
   "execution_count": 19,
   "metadata": {},
   "outputs": [],
   "source": [
    "cols_matrix = ['id','budget','revenue','runtime','popularity','vote_average','vote_count']\n",
    "cols_info = ['id','homepage','original_language','original_title','overview','release_date','status','tagline','title']\n",
    "cols_mgenre = ['id','genres']\n",
    "cols_mcompany = ['id','production_companies']\n",
    "cols_mcountry = ['id','production_countries']\n",
    "cols_mlang = ['id','spoken_languages']\n",
    "cols_mkey = ['id','keywords']"
   ]
  },
  {
   "cell_type": "markdown",
   "metadata": {},
   "source": [
    "Copy subset of df_movie and replace 0 runtime with None."
   ]
  },
  {
   "cell_type": "code",
   "execution_count": 20,
   "metadata": {},
   "outputs": [
    {
     "name": "stdout",
     "output_type": "stream",
     "text": [
      "(3734, 7)\n"
     ]
    }
   ],
   "source": [
    "# Create dataframes by copying subset of df_movie data\n",
    "df_matrix = copy_subset_df(cols_matrix)\n",
    "print(df_matrix.shape)"
   ]
  },
  {
   "cell_type": "code",
   "execution_count": 21,
   "metadata": {
    "scrolled": false
   },
   "outputs": [],
   "source": [
    "df_matrix['runtime'] = df_matrix['runtime'].apply(lambda x: None if x==0 else x)"
   ]
  },
  {
   "cell_type": "code",
   "execution_count": 22,
   "metadata": {},
   "outputs": [],
   "source": [
    "df_info = copy_subset_df(cols_info)\n",
    "df_mgenre = copy_subset_df(cols_mgenre)\n",
    "df_mcompany = copy_subset_df(cols_mcompany)\n",
    "df_mcountry = copy_subset_df(cols_mcountry)\n",
    "df_mlang = copy_subset_df(cols_mlang)\n",
    "df_mkey = copy_subset_df(cols_mkey)"
   ]
  },
  {
   "cell_type": "markdown",
   "metadata": {},
   "source": [
    "<a id='dc-dtype'></a>\n",
    "### Data Cleaning: Fix wrong data type"
   ]
  },
  {
   "cell_type": "markdown",
   "metadata": {},
   "source": [
    "Fix **data type** `budget` and `revenue` to float."
   ]
  },
  {
   "cell_type": "code",
   "execution_count": 23,
   "metadata": {
    "scrolled": false
   },
   "outputs": [
    {
     "data": {
      "text/plain": [
       "id                int64\n",
       "budget          float64\n",
       "revenue         float64\n",
       "runtime         float64\n",
       "popularity      float64\n",
       "vote_average    float64\n",
       "vote_count        int64\n",
       "dtype: object"
      ]
     },
     "execution_count": 23,
     "metadata": {},
     "output_type": "execute_result"
    }
   ],
   "source": [
    "df_matrix['budget'] = df_matrix['budget'].astype(float)\n",
    "df_matrix['revenue'] = df_matrix['revenue'].astype(float)\n",
    "df_matrix.dtypes"
   ]
  },
  {
   "cell_type": "markdown",
   "metadata": {},
   "source": [
    "Fix **data type** `release_date` to datetime."
   ]
  },
  {
   "cell_type": "code",
   "execution_count": 24,
   "metadata": {},
   "outputs": [
    {
     "data": {
      "text/plain": [
       "id                            int64\n",
       "homepage                     object\n",
       "original_language            object\n",
       "original_title               object\n",
       "overview                     object\n",
       "release_date         datetime64[ns]\n",
       "status                       object\n",
       "tagline                      object\n",
       "title                        object\n",
       "dtype: object"
      ]
     },
     "execution_count": 24,
     "metadata": {},
     "output_type": "execute_result"
    }
   ],
   "source": [
    "df_info['release_date'] = pd.to_datetime(df_info['release_date'], format=\"%Y-%m-%d\")\n",
    "df_info.dtypes"
   ]
  },
  {
   "cell_type": "markdown",
   "metadata": {},
   "source": [
    "<a id='dc-mvalues'></a>\n",
    "### Data Cleaning: Tidy-up multiple values"
   ]
  },
  {
   "cell_type": "markdown",
   "metadata": {},
   "source": [
    "Tidy-up **multiple values** on `genres`."
   ]
  },
  {
   "cell_type": "code",
   "execution_count": 25,
   "metadata": {
    "scrolled": false
   },
   "outputs": [
    {
     "data": {
      "text/html": [
       "<div>\n",
       "<style scoped>\n",
       "    .dataframe tbody tr th:only-of-type {\n",
       "        vertical-align: middle;\n",
       "    }\n",
       "\n",
       "    .dataframe tbody tr th {\n",
       "        vertical-align: top;\n",
       "    }\n",
       "\n",
       "    .dataframe thead th {\n",
       "        text-align: right;\n",
       "    }\n",
       "</style>\n",
       "<table border=\"1\" class=\"dataframe\">\n",
       "  <thead>\n",
       "    <tr style=\"text-align: right;\">\n",
       "      <th></th>\n",
       "      <th>id</th>\n",
       "      <th>genres</th>\n",
       "      <th>genres_count</th>\n",
       "    </tr>\n",
       "  </thead>\n",
       "  <tbody>\n",
       "    <tr>\n",
       "      <th>0</th>\n",
       "      <td>19995</td>\n",
       "      <td>Action; Adventure; Fantasy; Science Fiction</td>\n",
       "      <td>4</td>\n",
       "    </tr>\n",
       "    <tr>\n",
       "      <th>1</th>\n",
       "      <td>285</td>\n",
       "      <td>Adventure; Fantasy; Action</td>\n",
       "      <td>3</td>\n",
       "    </tr>\n",
       "    <tr>\n",
       "      <th>2</th>\n",
       "      <td>206647</td>\n",
       "      <td>Action; Adventure; Crime</td>\n",
       "      <td>3</td>\n",
       "    </tr>\n",
       "    <tr>\n",
       "      <th>3</th>\n",
       "      <td>49026</td>\n",
       "      <td>Action; Crime; Drama; Thriller</td>\n",
       "      <td>4</td>\n",
       "    </tr>\n",
       "    <tr>\n",
       "      <th>4</th>\n",
       "      <td>49529</td>\n",
       "      <td>Action; Adventure; Science Fiction</td>\n",
       "      <td>3</td>\n",
       "    </tr>\n",
       "  </tbody>\n",
       "</table>\n",
       "</div>"
      ],
      "text/plain": [
       "       id                                       genres  genres_count\n",
       "0   19995  Action; Adventure; Fantasy; Science Fiction             4\n",
       "1     285                   Adventure; Fantasy; Action             3\n",
       "2  206647                     Action; Adventure; Crime             3\n",
       "3   49026               Action; Crime; Drama; Thriller             4\n",
       "4   49529           Action; Adventure; Science Fiction             3"
      ]
     },
     "execution_count": 25,
     "metadata": {},
     "output_type": "execute_result"
    }
   ],
   "source": [
    "df_mgenre['genres_count'] = df_mgenre['genres'].str.findall('\"name\": \"(.+?)\"}').apply(lambda x: len(x))\n",
    "df_mgenre['genres'] = df_mgenre['genres'].str.findall('\"name\": \"(.+?)\"}').apply('; '.join)\n",
    "df_mgenre.head()"
   ]
  },
  {
   "cell_type": "code",
   "execution_count": 26,
   "metadata": {
    "scrolled": false
   },
   "outputs": [
    {
     "data": {
      "text/html": [
       "<div>\n",
       "<style scoped>\n",
       "    .dataframe tbody tr th:only-of-type {\n",
       "        vertical-align: middle;\n",
       "    }\n",
       "\n",
       "    .dataframe tbody tr th {\n",
       "        vertical-align: top;\n",
       "    }\n",
       "\n",
       "    .dataframe thead th {\n",
       "        text-align: right;\n",
       "    }\n",
       "</style>\n",
       "<table border=\"1\" class=\"dataframe\">\n",
       "  <thead>\n",
       "    <tr style=\"text-align: right;\">\n",
       "      <th></th>\n",
       "      <th>id</th>\n",
       "      <th>genres_count</th>\n",
       "    </tr>\n",
       "  </thead>\n",
       "  <tbody>\n",
       "    <tr>\n",
       "      <th>count</th>\n",
       "      <td>3734.000000</td>\n",
       "      <td>3734.000000</td>\n",
       "    </tr>\n",
       "    <tr>\n",
       "      <th>mean</th>\n",
       "      <td>49661.312266</td>\n",
       "      <td>2.622657</td>\n",
       "    </tr>\n",
       "    <tr>\n",
       "      <th>std</th>\n",
       "      <td>81330.797901</td>\n",
       "      <td>1.116484</td>\n",
       "    </tr>\n",
       "    <tr>\n",
       "      <th>min</th>\n",
       "      <td>5.000000</td>\n",
       "      <td>0.000000</td>\n",
       "    </tr>\n",
       "    <tr>\n",
       "      <th>25%</th>\n",
       "      <td>6972.250000</td>\n",
       "      <td>2.000000</td>\n",
       "    </tr>\n",
       "    <tr>\n",
       "      <th>50%</th>\n",
       "      <td>11972.000000</td>\n",
       "      <td>3.000000</td>\n",
       "    </tr>\n",
       "    <tr>\n",
       "      <th>75%</th>\n",
       "      <td>49048.500000</td>\n",
       "      <td>3.000000</td>\n",
       "    </tr>\n",
       "    <tr>\n",
       "      <th>max</th>\n",
       "      <td>417859.000000</td>\n",
       "      <td>7.000000</td>\n",
       "    </tr>\n",
       "  </tbody>\n",
       "</table>\n",
       "</div>"
      ],
      "text/plain": [
       "                  id  genres_count\n",
       "count    3734.000000   3734.000000\n",
       "mean    49661.312266      2.622657\n",
       "std     81330.797901      1.116484\n",
       "min         5.000000      0.000000\n",
       "25%      6972.250000      2.000000\n",
       "50%     11972.000000      3.000000\n",
       "75%     49048.500000      3.000000\n",
       "max    417859.000000      7.000000"
      ]
     },
     "execution_count": 26,
     "metadata": {},
     "output_type": "execute_result"
    }
   ],
   "source": [
    "df_mgenre.describe()"
   ]
  },
  {
   "cell_type": "markdown",
   "metadata": {},
   "source": [
    "Tidy-up **multiple values** on `keywords`."
   ]
  },
  {
   "cell_type": "code",
   "execution_count": 27,
   "metadata": {
    "scrolled": false
   },
   "outputs": [
    {
     "data": {
      "text/html": [
       "<div>\n",
       "<style scoped>\n",
       "    .dataframe tbody tr th:only-of-type {\n",
       "        vertical-align: middle;\n",
       "    }\n",
       "\n",
       "    .dataframe tbody tr th {\n",
       "        vertical-align: top;\n",
       "    }\n",
       "\n",
       "    .dataframe thead th {\n",
       "        text-align: right;\n",
       "    }\n",
       "</style>\n",
       "<table border=\"1\" class=\"dataframe\">\n",
       "  <thead>\n",
       "    <tr style=\"text-align: right;\">\n",
       "      <th></th>\n",
       "      <th>id</th>\n",
       "      <th>keywords</th>\n",
       "      <th>keywords_count</th>\n",
       "    </tr>\n",
       "  </thead>\n",
       "  <tbody>\n",
       "    <tr>\n",
       "      <th>0</th>\n",
       "      <td>19995</td>\n",
       "      <td>culture clash; future; space war; space colony...</td>\n",
       "      <td>21</td>\n",
       "    </tr>\n",
       "    <tr>\n",
       "      <th>1</th>\n",
       "      <td>285</td>\n",
       "      <td>ocean; drug abuse; exotic island; east india t...</td>\n",
       "      <td>16</td>\n",
       "    </tr>\n",
       "    <tr>\n",
       "      <th>2</th>\n",
       "      <td>206647</td>\n",
       "      <td>spy; based on novel; secret agent; sequel; mi6...</td>\n",
       "      <td>7</td>\n",
       "    </tr>\n",
       "    <tr>\n",
       "      <th>3</th>\n",
       "      <td>49026</td>\n",
       "      <td>dc comics; crime fighter; terrorist; secret id...</td>\n",
       "      <td>21</td>\n",
       "    </tr>\n",
       "    <tr>\n",
       "      <th>4</th>\n",
       "      <td>49529</td>\n",
       "      <td>based on novel; mars; medallion; space travel;...</td>\n",
       "      <td>16</td>\n",
       "    </tr>\n",
       "  </tbody>\n",
       "</table>\n",
       "</div>"
      ],
      "text/plain": [
       "       id                                           keywords  keywords_count\n",
       "0   19995  culture clash; future; space war; space colony...              21\n",
       "1     285  ocean; drug abuse; exotic island; east india t...              16\n",
       "2  206647  spy; based on novel; secret agent; sequel; mi6...               7\n",
       "3   49026  dc comics; crime fighter; terrorist; secret id...              21\n",
       "4   49529  based on novel; mars; medallion; space travel;...              16"
      ]
     },
     "execution_count": 27,
     "metadata": {},
     "output_type": "execute_result"
    }
   ],
   "source": [
    "df_mkey['keywords_count'] = df_mkey['keywords'].str.findall('\"name\": \"(.+?)\"}').apply(lambda x: len(x))\n",
    "df_mkey['keywords'] = df_mkey['keywords'].str.findall('\"name\": \"(.+?)\"}').apply('; '.join)\n",
    "df_mkey.head()"
   ]
  },
  {
   "cell_type": "code",
   "execution_count": 28,
   "metadata": {
    "scrolled": true
   },
   "outputs": [
    {
     "data": {
      "text/html": [
       "<div>\n",
       "<style scoped>\n",
       "    .dataframe tbody tr th:only-of-type {\n",
       "        vertical-align: middle;\n",
       "    }\n",
       "\n",
       "    .dataframe tbody tr th {\n",
       "        vertical-align: top;\n",
       "    }\n",
       "\n",
       "    .dataframe thead th {\n",
       "        text-align: right;\n",
       "    }\n",
       "</style>\n",
       "<table border=\"1\" class=\"dataframe\">\n",
       "  <thead>\n",
       "    <tr style=\"text-align: right;\">\n",
       "      <th></th>\n",
       "      <th>id</th>\n",
       "      <th>keywords_count</th>\n",
       "    </tr>\n",
       "  </thead>\n",
       "  <tbody>\n",
       "    <tr>\n",
       "      <th>count</th>\n",
       "      <td>3734.000000</td>\n",
       "      <td>3734.000000</td>\n",
       "    </tr>\n",
       "    <tr>\n",
       "      <th>mean</th>\n",
       "      <td>49661.312266</td>\n",
       "      <td>8.567220</td>\n",
       "    </tr>\n",
       "    <tr>\n",
       "      <th>std</th>\n",
       "      <td>81330.797901</td>\n",
       "      <td>6.378889</td>\n",
       "    </tr>\n",
       "    <tr>\n",
       "      <th>min</th>\n",
       "      <td>5.000000</td>\n",
       "      <td>0.000000</td>\n",
       "    </tr>\n",
       "    <tr>\n",
       "      <th>25%</th>\n",
       "      <td>6972.250000</td>\n",
       "      <td>4.000000</td>\n",
       "    </tr>\n",
       "    <tr>\n",
       "      <th>50%</th>\n",
       "      <td>11972.000000</td>\n",
       "      <td>7.000000</td>\n",
       "    </tr>\n",
       "    <tr>\n",
       "      <th>75%</th>\n",
       "      <td>49048.500000</td>\n",
       "      <td>12.000000</td>\n",
       "    </tr>\n",
       "    <tr>\n",
       "      <th>max</th>\n",
       "      <td>417859.000000</td>\n",
       "      <td>97.000000</td>\n",
       "    </tr>\n",
       "  </tbody>\n",
       "</table>\n",
       "</div>"
      ],
      "text/plain": [
       "                  id  keywords_count\n",
       "count    3734.000000     3734.000000\n",
       "mean    49661.312266        8.567220\n",
       "std     81330.797901        6.378889\n",
       "min         5.000000        0.000000\n",
       "25%      6972.250000        4.000000\n",
       "50%     11972.000000        7.000000\n",
       "75%     49048.500000       12.000000\n",
       "max    417859.000000       97.000000"
      ]
     },
     "execution_count": 28,
     "metadata": {},
     "output_type": "execute_result"
    }
   ],
   "source": [
    "df_mkey.describe()"
   ]
  },
  {
   "cell_type": "markdown",
   "metadata": {},
   "source": [
    "Tidy-up **multiple values** on `production_companies`."
   ]
  },
  {
   "cell_type": "code",
   "execution_count": 29,
   "metadata": {
    "scrolled": true
   },
   "outputs": [
    {
     "data": {
      "text/html": [
       "<div>\n",
       "<style scoped>\n",
       "    .dataframe tbody tr th:only-of-type {\n",
       "        vertical-align: middle;\n",
       "    }\n",
       "\n",
       "    .dataframe tbody tr th {\n",
       "        vertical-align: top;\n",
       "    }\n",
       "\n",
       "    .dataframe thead th {\n",
       "        text-align: right;\n",
       "    }\n",
       "</style>\n",
       "<table border=\"1\" class=\"dataframe\">\n",
       "  <thead>\n",
       "    <tr style=\"text-align: right;\">\n",
       "      <th></th>\n",
       "      <th>id</th>\n",
       "      <th>production_companies</th>\n",
       "      <th>production_companies_count</th>\n",
       "    </tr>\n",
       "  </thead>\n",
       "  <tbody>\n",
       "    <tr>\n",
       "      <th>0</th>\n",
       "      <td>19995</td>\n",
       "      <td>Ingenious Film Partners; Twentieth Century Fox...</td>\n",
       "      <td>4</td>\n",
       "    </tr>\n",
       "    <tr>\n",
       "      <th>1</th>\n",
       "      <td>285</td>\n",
       "      <td>Walt Disney Pictures; Jerry Bruckheimer Films;...</td>\n",
       "      <td>3</td>\n",
       "    </tr>\n",
       "    <tr>\n",
       "      <th>2</th>\n",
       "      <td>206647</td>\n",
       "      <td>Columbia Pictures; Danjaq; B24</td>\n",
       "      <td>3</td>\n",
       "    </tr>\n",
       "    <tr>\n",
       "      <th>3</th>\n",
       "      <td>49026</td>\n",
       "      <td>Legendary Pictures; Warner Bros.; DC Entertain...</td>\n",
       "      <td>4</td>\n",
       "    </tr>\n",
       "    <tr>\n",
       "      <th>4</th>\n",
       "      <td>49529</td>\n",
       "      <td>Walt Disney Pictures</td>\n",
       "      <td>1</td>\n",
       "    </tr>\n",
       "  </tbody>\n",
       "</table>\n",
       "</div>"
      ],
      "text/plain": [
       "       id                               production_companies  \\\n",
       "0   19995  Ingenious Film Partners; Twentieth Century Fox...   \n",
       "1     285  Walt Disney Pictures; Jerry Bruckheimer Films;...   \n",
       "2  206647                     Columbia Pictures; Danjaq; B24   \n",
       "3   49026  Legendary Pictures; Warner Bros.; DC Entertain...   \n",
       "4   49529                               Walt Disney Pictures   \n",
       "\n",
       "   production_companies_count  \n",
       "0                           4  \n",
       "1                           3  \n",
       "2                           3  \n",
       "3                           4  \n",
       "4                           1  "
      ]
     },
     "execution_count": 29,
     "metadata": {},
     "output_type": "execute_result"
    }
   ],
   "source": [
    "df_mcompany['production_companies_count'] = df_mcompany['production_companies'].str.findall('\"name\": \"(.+?)\",').apply(lambda x: len(x))\n",
    "df_mcompany['production_companies'] = df_mcompany['production_companies'].str.findall('\"name\": \"(.+?)\",').apply('; '.join)\n",
    "df_mcompany.head()"
   ]
  },
  {
   "cell_type": "code",
   "execution_count": 30,
   "metadata": {
    "scrolled": false
   },
   "outputs": [
    {
     "data": {
      "text/html": [
       "<div>\n",
       "<style scoped>\n",
       "    .dataframe tbody tr th:only-of-type {\n",
       "        vertical-align: middle;\n",
       "    }\n",
       "\n",
       "    .dataframe tbody tr th {\n",
       "        vertical-align: top;\n",
       "    }\n",
       "\n",
       "    .dataframe thead th {\n",
       "        text-align: right;\n",
       "    }\n",
       "</style>\n",
       "<table border=\"1\" class=\"dataframe\">\n",
       "  <thead>\n",
       "    <tr style=\"text-align: right;\">\n",
       "      <th></th>\n",
       "      <th>id</th>\n",
       "      <th>production_companies_count</th>\n",
       "    </tr>\n",
       "  </thead>\n",
       "  <tbody>\n",
       "    <tr>\n",
       "      <th>count</th>\n",
       "      <td>3734.000000</td>\n",
       "      <td>3734.000000</td>\n",
       "    </tr>\n",
       "    <tr>\n",
       "      <th>mean</th>\n",
       "      <td>49661.312266</td>\n",
       "      <td>3.119443</td>\n",
       "    </tr>\n",
       "    <tr>\n",
       "      <th>std</th>\n",
       "      <td>81330.797901</td>\n",
       "      <td>2.218009</td>\n",
       "    </tr>\n",
       "    <tr>\n",
       "      <th>min</th>\n",
       "      <td>5.000000</td>\n",
       "      <td>0.000000</td>\n",
       "    </tr>\n",
       "    <tr>\n",
       "      <th>25%</th>\n",
       "      <td>6972.250000</td>\n",
       "      <td>2.000000</td>\n",
       "    </tr>\n",
       "    <tr>\n",
       "      <th>50%</th>\n",
       "      <td>11972.000000</td>\n",
       "      <td>3.000000</td>\n",
       "    </tr>\n",
       "    <tr>\n",
       "      <th>75%</th>\n",
       "      <td>49048.500000</td>\n",
       "      <td>4.000000</td>\n",
       "    </tr>\n",
       "    <tr>\n",
       "      <th>max</th>\n",
       "      <td>417859.000000</td>\n",
       "      <td>26.000000</td>\n",
       "    </tr>\n",
       "  </tbody>\n",
       "</table>\n",
       "</div>"
      ],
      "text/plain": [
       "                  id  production_companies_count\n",
       "count    3734.000000                 3734.000000\n",
       "mean    49661.312266                    3.119443\n",
       "std     81330.797901                    2.218009\n",
       "min         5.000000                    0.000000\n",
       "25%      6972.250000                    2.000000\n",
       "50%     11972.000000                    3.000000\n",
       "75%     49048.500000                    4.000000\n",
       "max    417859.000000                   26.000000"
      ]
     },
     "execution_count": 30,
     "metadata": {},
     "output_type": "execute_result"
    }
   ],
   "source": [
    "df_mcompany.describe()"
   ]
  },
  {
   "cell_type": "markdown",
   "metadata": {},
   "source": [
    "Tidy-up **multiple values** on `production_countries`."
   ]
  },
  {
   "cell_type": "code",
   "execution_count": 31,
   "metadata": {
    "scrolled": true
   },
   "outputs": [
    {
     "data": {
      "text/html": [
       "<div>\n",
       "<style scoped>\n",
       "    .dataframe tbody tr th:only-of-type {\n",
       "        vertical-align: middle;\n",
       "    }\n",
       "\n",
       "    .dataframe tbody tr th {\n",
       "        vertical-align: top;\n",
       "    }\n",
       "\n",
       "    .dataframe thead th {\n",
       "        text-align: right;\n",
       "    }\n",
       "</style>\n",
       "<table border=\"1\" class=\"dataframe\">\n",
       "  <thead>\n",
       "    <tr style=\"text-align: right;\">\n",
       "      <th></th>\n",
       "      <th>id</th>\n",
       "      <th>production_countries</th>\n",
       "      <th>production_countries_count</th>\n",
       "    </tr>\n",
       "  </thead>\n",
       "  <tbody>\n",
       "    <tr>\n",
       "      <th>0</th>\n",
       "      <td>19995</td>\n",
       "      <td>United States of America; United Kingdom</td>\n",
       "      <td>2</td>\n",
       "    </tr>\n",
       "    <tr>\n",
       "      <th>1</th>\n",
       "      <td>285</td>\n",
       "      <td>United States of America</td>\n",
       "      <td>1</td>\n",
       "    </tr>\n",
       "    <tr>\n",
       "      <th>2</th>\n",
       "      <td>206647</td>\n",
       "      <td>United Kingdom; United States of America</td>\n",
       "      <td>2</td>\n",
       "    </tr>\n",
       "    <tr>\n",
       "      <th>3</th>\n",
       "      <td>49026</td>\n",
       "      <td>United States of America</td>\n",
       "      <td>1</td>\n",
       "    </tr>\n",
       "    <tr>\n",
       "      <th>4</th>\n",
       "      <td>49529</td>\n",
       "      <td>United States of America</td>\n",
       "      <td>1</td>\n",
       "    </tr>\n",
       "  </tbody>\n",
       "</table>\n",
       "</div>"
      ],
      "text/plain": [
       "       id                      production_countries  \\\n",
       "0   19995  United States of America; United Kingdom   \n",
       "1     285                  United States of America   \n",
       "2  206647  United Kingdom; United States of America   \n",
       "3   49026                  United States of America   \n",
       "4   49529                  United States of America   \n",
       "\n",
       "   production_countries_count  \n",
       "0                           2  \n",
       "1                           1  \n",
       "2                           2  \n",
       "3                           1  \n",
       "4                           1  "
      ]
     },
     "execution_count": 31,
     "metadata": {},
     "output_type": "execute_result"
    }
   ],
   "source": [
    "df_mcountry['production_countries_count'] = df_mcountry['production_countries'].str.findall('\"name\": \"(.+?)\"}').apply(lambda x: len(x))\n",
    "df_mcountry['production_countries'] = df_mcountry['production_countries'].str.findall('\"name\": \"(.+?)\"}').apply('; '.join)\n",
    "df_mcountry.head()"
   ]
  },
  {
   "cell_type": "code",
   "execution_count": 32,
   "metadata": {
    "scrolled": true
   },
   "outputs": [
    {
     "data": {
      "text/html": [
       "<div>\n",
       "<style scoped>\n",
       "    .dataframe tbody tr th:only-of-type {\n",
       "        vertical-align: middle;\n",
       "    }\n",
       "\n",
       "    .dataframe tbody tr th {\n",
       "        vertical-align: top;\n",
       "    }\n",
       "\n",
       "    .dataframe thead th {\n",
       "        text-align: right;\n",
       "    }\n",
       "</style>\n",
       "<table border=\"1\" class=\"dataframe\">\n",
       "  <thead>\n",
       "    <tr style=\"text-align: right;\">\n",
       "      <th></th>\n",
       "      <th>id</th>\n",
       "      <th>production_countries_count</th>\n",
       "    </tr>\n",
       "  </thead>\n",
       "  <tbody>\n",
       "    <tr>\n",
       "      <th>count</th>\n",
       "      <td>3734.000000</td>\n",
       "      <td>3734.000000</td>\n",
       "    </tr>\n",
       "    <tr>\n",
       "      <th>mean</th>\n",
       "      <td>49661.312266</td>\n",
       "      <td>1.395019</td>\n",
       "    </tr>\n",
       "    <tr>\n",
       "      <th>std</th>\n",
       "      <td>81330.797901</td>\n",
       "      <td>0.803546</td>\n",
       "    </tr>\n",
       "    <tr>\n",
       "      <th>min</th>\n",
       "      <td>5.000000</td>\n",
       "      <td>0.000000</td>\n",
       "    </tr>\n",
       "    <tr>\n",
       "      <th>25%</th>\n",
       "      <td>6972.250000</td>\n",
       "      <td>1.000000</td>\n",
       "    </tr>\n",
       "    <tr>\n",
       "      <th>50%</th>\n",
       "      <td>11972.000000</td>\n",
       "      <td>1.000000</td>\n",
       "    </tr>\n",
       "    <tr>\n",
       "      <th>75%</th>\n",
       "      <td>49048.500000</td>\n",
       "      <td>2.000000</td>\n",
       "    </tr>\n",
       "    <tr>\n",
       "      <th>max</th>\n",
       "      <td>417859.000000</td>\n",
       "      <td>12.000000</td>\n",
       "    </tr>\n",
       "  </tbody>\n",
       "</table>\n",
       "</div>"
      ],
      "text/plain": [
       "                  id  production_countries_count\n",
       "count    3734.000000                 3734.000000\n",
       "mean    49661.312266                    1.395019\n",
       "std     81330.797901                    0.803546\n",
       "min         5.000000                    0.000000\n",
       "25%      6972.250000                    1.000000\n",
       "50%     11972.000000                    1.000000\n",
       "75%     49048.500000                    2.000000\n",
       "max    417859.000000                   12.000000"
      ]
     },
     "execution_count": 32,
     "metadata": {},
     "output_type": "execute_result"
    }
   ],
   "source": [
    "df_mcountry.describe()"
   ]
  },
  {
   "cell_type": "markdown",
   "metadata": {},
   "source": [
    "Tidy-up **multiple values** on `spoken_languages`."
   ]
  },
  {
   "cell_type": "code",
   "execution_count": 33,
   "metadata": {
    "scrolled": true
   },
   "outputs": [
    {
     "data": {
      "text/html": [
       "<div>\n",
       "<style scoped>\n",
       "    .dataframe tbody tr th:only-of-type {\n",
       "        vertical-align: middle;\n",
       "    }\n",
       "\n",
       "    .dataframe tbody tr th {\n",
       "        vertical-align: top;\n",
       "    }\n",
       "\n",
       "    .dataframe thead th {\n",
       "        text-align: right;\n",
       "    }\n",
       "</style>\n",
       "<table border=\"1\" class=\"dataframe\">\n",
       "  <thead>\n",
       "    <tr style=\"text-align: right;\">\n",
       "      <th></th>\n",
       "      <th>id</th>\n",
       "      <th>spoken_languages</th>\n",
       "      <th>spoken_languages_count</th>\n",
       "    </tr>\n",
       "  </thead>\n",
       "  <tbody>\n",
       "    <tr>\n",
       "      <th>0</th>\n",
       "      <td>19995</td>\n",
       "      <td>English; Espa\\u00f1ol</td>\n",
       "      <td>2</td>\n",
       "    </tr>\n",
       "    <tr>\n",
       "      <th>1</th>\n",
       "      <td>285</td>\n",
       "      <td>English</td>\n",
       "      <td>1</td>\n",
       "    </tr>\n",
       "    <tr>\n",
       "      <th>2</th>\n",
       "      <td>206647</td>\n",
       "      <td>Fran\\u00e7ais; English; Espa\\u00f1ol; Italiano...</td>\n",
       "      <td>5</td>\n",
       "    </tr>\n",
       "    <tr>\n",
       "      <th>3</th>\n",
       "      <td>49026</td>\n",
       "      <td>English</td>\n",
       "      <td>1</td>\n",
       "    </tr>\n",
       "    <tr>\n",
       "      <th>4</th>\n",
       "      <td>49529</td>\n",
       "      <td>English</td>\n",
       "      <td>1</td>\n",
       "    </tr>\n",
       "  </tbody>\n",
       "</table>\n",
       "</div>"
      ],
      "text/plain": [
       "       id                                   spoken_languages  \\\n",
       "0   19995                              English; Espa\\u00f1ol   \n",
       "1     285                                            English   \n",
       "2  206647  Fran\\u00e7ais; English; Espa\\u00f1ol; Italiano...   \n",
       "3   49026                                            English   \n",
       "4   49529                                            English   \n",
       "\n",
       "   spoken_languages_count  \n",
       "0                       2  \n",
       "1                       1  \n",
       "2                       5  \n",
       "3                       1  \n",
       "4                       1  "
      ]
     },
     "execution_count": 33,
     "metadata": {},
     "output_type": "execute_result"
    }
   ],
   "source": [
    "df_mlang['spoken_languages_count'] = df_mlang['spoken_languages'].str.findall('\"name\": \"(.+?)\"}').apply(lambda x: len(x))\n",
    "df_mlang['spoken_languages'] = df_mlang['spoken_languages'].str.findall('\"name\": \"(.+?)\"}').apply('; '.join)\n",
    "df_mlang.head()"
   ]
  },
  {
   "cell_type": "code",
   "execution_count": 34,
   "metadata": {
    "scrolled": true
   },
   "outputs": [
    {
     "data": {
      "text/html": [
       "<div>\n",
       "<style scoped>\n",
       "    .dataframe tbody tr th:only-of-type {\n",
       "        vertical-align: middle;\n",
       "    }\n",
       "\n",
       "    .dataframe tbody tr th {\n",
       "        vertical-align: top;\n",
       "    }\n",
       "\n",
       "    .dataframe thead th {\n",
       "        text-align: right;\n",
       "    }\n",
       "</style>\n",
       "<table border=\"1\" class=\"dataframe\">\n",
       "  <thead>\n",
       "    <tr style=\"text-align: right;\">\n",
       "      <th></th>\n",
       "      <th>id</th>\n",
       "      <th>spoken_languages_count</th>\n",
       "    </tr>\n",
       "  </thead>\n",
       "  <tbody>\n",
       "    <tr>\n",
       "      <th>count</th>\n",
       "      <td>3734.000000</td>\n",
       "      <td>3734.000000</td>\n",
       "    </tr>\n",
       "    <tr>\n",
       "      <th>mean</th>\n",
       "      <td>49661.312266</td>\n",
       "      <td>1.496251</td>\n",
       "    </tr>\n",
       "    <tr>\n",
       "      <th>std</th>\n",
       "      <td>81330.797901</td>\n",
       "      <td>0.939853</td>\n",
       "    </tr>\n",
       "    <tr>\n",
       "      <th>min</th>\n",
       "      <td>5.000000</td>\n",
       "      <td>0.000000</td>\n",
       "    </tr>\n",
       "    <tr>\n",
       "      <th>25%</th>\n",
       "      <td>6972.250000</td>\n",
       "      <td>1.000000</td>\n",
       "    </tr>\n",
       "    <tr>\n",
       "      <th>50%</th>\n",
       "      <td>11972.000000</td>\n",
       "      <td>1.000000</td>\n",
       "    </tr>\n",
       "    <tr>\n",
       "      <th>75%</th>\n",
       "      <td>49048.500000</td>\n",
       "      <td>2.000000</td>\n",
       "    </tr>\n",
       "    <tr>\n",
       "      <th>max</th>\n",
       "      <td>417859.000000</td>\n",
       "      <td>8.000000</td>\n",
       "    </tr>\n",
       "  </tbody>\n",
       "</table>\n",
       "</div>"
      ],
      "text/plain": [
       "                  id  spoken_languages_count\n",
       "count    3734.000000             3734.000000\n",
       "mean    49661.312266                1.496251\n",
       "std     81330.797901                0.939853\n",
       "min         5.000000                0.000000\n",
       "25%      6972.250000                1.000000\n",
       "50%     11972.000000                1.000000\n",
       "75%     49048.500000                2.000000\n",
       "max    417859.000000                8.000000"
      ]
     },
     "execution_count": 34,
     "metadata": {},
     "output_type": "execute_result"
    }
   ],
   "source": [
    "df_mlang.describe()"
   ]
  },
  {
   "cell_type": "markdown",
   "metadata": {},
   "source": [
    "<a id='dc-break-mvalues'></a>\n",
    "### Data Cleaning: Break values of genres"
   ]
  },
  {
   "cell_type": "markdown",
   "metadata": {},
   "source": [
    "**Break multivalues** `genres` by creating a separate dataframe that contains a genre in a single row."
   ]
  },
  {
   "cell_type": "code",
   "execution_count": 35,
   "metadata": {},
   "outputs": [
    {
     "name": "stdout",
     "output_type": "stream",
     "text": [
      "There are 3 movies which unknown genres.\n"
     ]
    }
   ],
   "source": [
    "print(\"There are {} movies which unknown genres.\".format((df_mgenre['genres'] == '').sum()))"
   ]
  },
  {
   "cell_type": "code",
   "execution_count": 36,
   "metadata": {},
   "outputs": [],
   "source": [
    "# Get indexes of unknown genre rows\n",
    "ind = df_mgenre[df_mgenre['genres'] == ''].index"
   ]
  },
  {
   "cell_type": "code",
   "execution_count": 37,
   "metadata": {
    "scrolled": false
   },
   "outputs": [
    {
     "name": "stdout",
     "output_type": "stream",
     "text": [
      "There are movie(s) which is categorized in 7 genres.\n"
     ]
    }
   ],
   "source": [
    "# Get to know maximum number of genres in a movie\n",
    "print(\"There are movie(s) which is categorized in {} genres.\"\n",
    "      .format((df_mgenre.drop(ind, axis=0))['genres'].apply(lambda x: len(x.split('; '))).max()))"
   ]
  },
  {
   "cell_type": "code",
   "execution_count": 38,
   "metadata": {},
   "outputs": [],
   "source": [
    "# Create 7 copy dataframes\n",
    "df1 = (df_mgenre.drop(ind, axis=0)).copy()\n",
    "df2 = (df_mgenre.drop(ind, axis=0)).copy()\n",
    "df3 = (df_mgenre.drop(ind, axis=0)).copy()\n",
    "df4 = (df_mgenre.drop(ind, axis=0)).copy()\n",
    "df5 = (df_mgenre.drop(ind, axis=0)).copy()\n",
    "df6 = (df_mgenre.drop(ind, axis=0)).copy()\n",
    "df7 = (df_mgenre.drop(ind, axis=0)).copy()"
   ]
  },
  {
   "cell_type": "code",
   "execution_count": 39,
   "metadata": {},
   "outputs": [],
   "source": [
    "df1['genres'] = df_mgenre['genres'].apply(lambda x: x.split('; ')[0] if len(x.split('; '))>=1 else None)\n",
    "df2['genres'] = df_mgenre['genres'].apply(lambda x: x.split('; ')[1] if len(x.split('; '))>=2 else None)\n",
    "df3['genres'] = df_mgenre['genres'].apply(lambda x: x.split('; ')[2] if len(x.split('; '))>=3 else None)\n",
    "df4['genres'] = df_mgenre['genres'].apply(lambda x: x.split('; ')[3] if len(x.split('; '))>=4 else None)\n",
    "df5['genres'] = df_mgenre['genres'].apply(lambda x: x.split('; ')[4] if len(x.split('; '))>=5 else None)\n",
    "df6['genres'] = df_mgenre['genres'].apply(lambda x: x.split('; ')[5] if len(x.split('; '))>=6 else None)\n",
    "df7['genres'] = df_mgenre['genres'].apply(lambda x: x.split('; ')[6] if len(x.split('; '))>=7 else None)"
   ]
  },
  {
   "cell_type": "code",
   "execution_count": 40,
   "metadata": {},
   "outputs": [
    {
     "name": "stdout",
     "output_type": "stream",
     "text": [
      "(9793, 2)\n"
     ]
    }
   ],
   "source": [
    "# Append dataframes to be a single dataframe\n",
    "df_genre = df1.append(df2.dropna())\n",
    "df_genre = df_genre.append(df3.dropna())\n",
    "df_genre = df_genre.append(df4.dropna())\n",
    "df_genre = df_genre.append(df5.dropna())\n",
    "df_genre = df_genre.append(df6.dropna())\n",
    "df_genre = df_genre.append(df7.dropna())\n",
    "df_genre = df_genre.drop('genres_count', axis=1)\n",
    "print(df_genre.shape)"
   ]
  },
  {
   "cell_type": "code",
   "execution_count": 41,
   "metadata": {
    "scrolled": false
   },
   "outputs": [
    {
     "data": {
      "text/html": [
       "<div>\n",
       "<style scoped>\n",
       "    .dataframe tbody tr th:only-of-type {\n",
       "        vertical-align: middle;\n",
       "    }\n",
       "\n",
       "    .dataframe tbody tr th {\n",
       "        vertical-align: top;\n",
       "    }\n",
       "\n",
       "    .dataframe thead th {\n",
       "        text-align: right;\n",
       "    }\n",
       "</style>\n",
       "<table border=\"1\" class=\"dataframe\">\n",
       "  <thead>\n",
       "    <tr style=\"text-align: right;\">\n",
       "      <th></th>\n",
       "      <th>id</th>\n",
       "      <th>genre</th>\n",
       "    </tr>\n",
       "  </thead>\n",
       "  <tbody>\n",
       "    <tr>\n",
       "      <th>3766</th>\n",
       "      <td>5</td>\n",
       "      <td>Comedy</td>\n",
       "    </tr>\n",
       "    <tr>\n",
       "      <th>3766</th>\n",
       "      <td>5</td>\n",
       "      <td>Crime</td>\n",
       "    </tr>\n",
       "    <tr>\n",
       "      <th>2912</th>\n",
       "      <td>11</td>\n",
       "      <td>Action</td>\n",
       "    </tr>\n",
       "    <tr>\n",
       "      <th>2912</th>\n",
       "      <td>11</td>\n",
       "      <td>Adventure</td>\n",
       "    </tr>\n",
       "    <tr>\n",
       "      <th>2912</th>\n",
       "      <td>11</td>\n",
       "      <td>Science Fiction</td>\n",
       "    </tr>\n",
       "  </tbody>\n",
       "</table>\n",
       "</div>"
      ],
      "text/plain": [
       "      id            genre\n",
       "3766   5           Comedy\n",
       "3766   5            Crime\n",
       "2912  11           Action\n",
       "2912  11        Adventure\n",
       "2912  11  Science Fiction"
      ]
     },
     "execution_count": 41,
     "metadata": {},
     "output_type": "execute_result"
    }
   ],
   "source": [
    "df_genre.rename(columns={'genres':'genre'}, inplace=True)\n",
    "df_genre.sort_values(by=['id','genre']).head()"
   ]
  },
  {
   "cell_type": "markdown",
   "metadata": {},
   "source": [
    "--------------------"
   ]
  },
  {
   "cell_type": "markdown",
   "metadata": {},
   "source": [
    "<a id='eda'></a>\n",
    "## Exploratory Data Analysis\n",
    "### Question 1: Which genres are most popular from year to year?"
   ]
  },
  {
   "cell_type": "markdown",
   "metadata": {},
   "source": [
    "Prepare summary data which contain: release year, genre, average popularity, moving average popularity.\n",
    "<ul><li>Join df_matrix (to get popularity), df_genre (to get genre), and df_info (to get release_date).</li></ul>"
   ]
  },
  {
   "cell_type": "code",
   "execution_count": 42,
   "metadata": {
    "scrolled": true
   },
   "outputs": [
    {
     "name": "stdout",
     "output_type": "stream",
     "text": [
      "(9793, 4)\n"
     ]
    },
    {
     "data": {
      "text/html": [
       "<div>\n",
       "<style scoped>\n",
       "    .dataframe tbody tr th:only-of-type {\n",
       "        vertical-align: middle;\n",
       "    }\n",
       "\n",
       "    .dataframe tbody tr th {\n",
       "        vertical-align: top;\n",
       "    }\n",
       "\n",
       "    .dataframe thead th {\n",
       "        text-align: right;\n",
       "    }\n",
       "</style>\n",
       "<table border=\"1\" class=\"dataframe\">\n",
       "  <thead>\n",
       "    <tr style=\"text-align: right;\">\n",
       "      <th></th>\n",
       "      <th>id</th>\n",
       "      <th>popularity</th>\n",
       "      <th>genre</th>\n",
       "      <th>release_date</th>\n",
       "    </tr>\n",
       "  </thead>\n",
       "  <tbody>\n",
       "    <tr>\n",
       "      <th>0</th>\n",
       "      <td>19995</td>\n",
       "      <td>150.437577</td>\n",
       "      <td>Action</td>\n",
       "      <td>2009-12-10</td>\n",
       "    </tr>\n",
       "    <tr>\n",
       "      <th>2027</th>\n",
       "      <td>1880</td>\n",
       "      <td>11.743085</td>\n",
       "      <td>Action</td>\n",
       "      <td>1984-08-10</td>\n",
       "    </tr>\n",
       "    <tr>\n",
       "      <th>2031</th>\n",
       "      <td>71679</td>\n",
       "      <td>6.227675</td>\n",
       "      <td>Action</td>\n",
       "      <td>2012-09-12</td>\n",
       "    </tr>\n",
       "    <tr>\n",
       "      <th>4998</th>\n",
       "      <td>12589</td>\n",
       "      <td>12.739721</td>\n",
       "      <td>Action</td>\n",
       "      <td>2001-12-21</td>\n",
       "    </tr>\n",
       "    <tr>\n",
       "      <th>7874</th>\n",
       "      <td>13072</td>\n",
       "      <td>4.090382</td>\n",
       "      <td>Action</td>\n",
       "      <td>2007-04-30</td>\n",
       "    </tr>\n",
       "  </tbody>\n",
       "</table>\n",
       "</div>"
      ],
      "text/plain": [
       "         id  popularity   genre release_date\n",
       "0     19995  150.437577  Action   2009-12-10\n",
       "2027   1880   11.743085  Action   1984-08-10\n",
       "2031  71679    6.227675  Action   2012-09-12\n",
       "4998  12589   12.739721  Action   2001-12-21\n",
       "7874  13072    4.090382  Action   2007-04-30"
      ]
     },
     "execution_count": 42,
     "metadata": {},
     "output_type": "execute_result"
    }
   ],
   "source": [
    "q1 = df_matrix.loc[:,['id','popularity']]\\\n",
    "        .merge(df_genre, left_on='id', right_on='id', how='inner')\\\n",
    "        .merge(df_info.loc[:,['id','release_date']], left_on='id', right_on='id', how='inner')\n",
    "print(q1.shape)\n",
    "q1.sort_values(by='genre').head()"
   ]
  },
  {
   "cell_type": "markdown",
   "metadata": {},
   "source": [
    "<ul><li>Generate new column release_year.</li></ul>"
   ]
  },
  {
   "cell_type": "code",
   "execution_count": 43,
   "metadata": {
    "scrolled": true
   },
   "outputs": [
    {
     "name": "stdout",
     "output_type": "stream",
     "text": [
      "(9793, 5)\n"
     ]
    },
    {
     "data": {
      "text/html": [
       "<div>\n",
       "<style scoped>\n",
       "    .dataframe tbody tr th:only-of-type {\n",
       "        vertical-align: middle;\n",
       "    }\n",
       "\n",
       "    .dataframe tbody tr th {\n",
       "        vertical-align: top;\n",
       "    }\n",
       "\n",
       "    .dataframe thead th {\n",
       "        text-align: right;\n",
       "    }\n",
       "</style>\n",
       "<table border=\"1\" class=\"dataframe\">\n",
       "  <thead>\n",
       "    <tr style=\"text-align: right;\">\n",
       "      <th></th>\n",
       "      <th>id</th>\n",
       "      <th>popularity</th>\n",
       "      <th>genre</th>\n",
       "      <th>release_date</th>\n",
       "      <th>release_year</th>\n",
       "    </tr>\n",
       "  </thead>\n",
       "  <tbody>\n",
       "    <tr>\n",
       "      <th>0</th>\n",
       "      <td>19995</td>\n",
       "      <td>150.437577</td>\n",
       "      <td>Action</td>\n",
       "      <td>2009-12-10</td>\n",
       "      <td>2009</td>\n",
       "    </tr>\n",
       "    <tr>\n",
       "      <th>2027</th>\n",
       "      <td>1880</td>\n",
       "      <td>11.743085</td>\n",
       "      <td>Action</td>\n",
       "      <td>1984-08-10</td>\n",
       "      <td>1984</td>\n",
       "    </tr>\n",
       "    <tr>\n",
       "      <th>2031</th>\n",
       "      <td>71679</td>\n",
       "      <td>6.227675</td>\n",
       "      <td>Action</td>\n",
       "      <td>2012-09-12</td>\n",
       "      <td>2012</td>\n",
       "    </tr>\n",
       "    <tr>\n",
       "      <th>4998</th>\n",
       "      <td>12589</td>\n",
       "      <td>12.739721</td>\n",
       "      <td>Action</td>\n",
       "      <td>2001-12-21</td>\n",
       "      <td>2001</td>\n",
       "    </tr>\n",
       "    <tr>\n",
       "      <th>7874</th>\n",
       "      <td>13072</td>\n",
       "      <td>4.090382</td>\n",
       "      <td>Action</td>\n",
       "      <td>2007-04-30</td>\n",
       "      <td>2007</td>\n",
       "    </tr>\n",
       "  </tbody>\n",
       "</table>\n",
       "</div>"
      ],
      "text/plain": [
       "         id  popularity   genre release_date  release_year\n",
       "0     19995  150.437577  Action   2009-12-10          2009\n",
       "2027   1880   11.743085  Action   1984-08-10          1984\n",
       "2031  71679    6.227675  Action   2012-09-12          2012\n",
       "4998  12589   12.739721  Action   2001-12-21          2001\n",
       "7874  13072    4.090382  Action   2007-04-30          2007"
      ]
     },
     "execution_count": 43,
     "metadata": {},
     "output_type": "execute_result"
    }
   ],
   "source": [
    "q1['release_year'] = q1['release_date'].dt.year\n",
    "print(q1.shape)\n",
    "q1.sort_values(by='genre').head()"
   ]
  },
  {
   "cell_type": "markdown",
   "metadata": {},
   "source": [
    "<ul><li>See distribution of popularity each genre to determine method calculation either mean popularity or median popularity.</li></ul>"
   ]
  },
  {
   "cell_type": "code",
   "execution_count": 44,
   "metadata": {
    "scrolled": true
   },
   "outputs": [
    {
     "data": {
      "image/png": "[encoded data removed]",
      "text/plain": [
       "<Figure size 1440x576 with 1 Axes>"
      ]
     },
     "metadata": {
      "needs_background": "light"
     },
     "output_type": "display_data"
    }
   ],
   "source": [
    "plt.figure(figsize=(20,8))\n",
    "sns.boxplot(x=\"genre\", y=\"popularity\", data=q1, dodge=False);"
   ]
  },
  {
   "cell_type": "markdown",
   "metadata": {},
   "source": [
    "<ul>\n",
    "    <li>Found that there are outliers, so we will use median to calculate popularity per year each genre.</li>\n",
    "    <li>Aggregate q1 dataframe to get: genre, release year, and median popularity.</li>\n",
    "</ul>"
   ]
  },
  {
   "cell_type": "code",
   "execution_count": 45,
   "metadata": {
    "scrolled": true
   },
   "outputs": [
    {
     "name": "stdout",
     "output_type": "stream",
     "text": [
      "(939, 3)\n"
     ]
    },
    {
     "data": {
      "text/html": [
       "<div>\n",
       "<style scoped>\n",
       "    .dataframe tbody tr th:only-of-type {\n",
       "        vertical-align: middle;\n",
       "    }\n",
       "\n",
       "    .dataframe tbody tr th {\n",
       "        vertical-align: top;\n",
       "    }\n",
       "\n",
       "    .dataframe thead th {\n",
       "        text-align: right;\n",
       "    }\n",
       "</style>\n",
       "<table border=\"1\" class=\"dataframe\">\n",
       "  <thead>\n",
       "    <tr style=\"text-align: right;\">\n",
       "      <th></th>\n",
       "      <th>genre</th>\n",
       "      <th>release_year</th>\n",
       "      <th>median_popularity</th>\n",
       "    </tr>\n",
       "  </thead>\n",
       "  <tbody>\n",
       "    <tr>\n",
       "      <th>0</th>\n",
       "      <td>Action</td>\n",
       "      <td>1930</td>\n",
       "      <td>8.484123</td>\n",
       "    </tr>\n",
       "    <tr>\n",
       "      <th>1</th>\n",
       "      <td>Action</td>\n",
       "      <td>1936</td>\n",
       "      <td>2.968235</td>\n",
       "    </tr>\n",
       "    <tr>\n",
       "      <th>2</th>\n",
       "      <td>Action</td>\n",
       "      <td>1949</td>\n",
       "      <td>3.851000</td>\n",
       "    </tr>\n",
       "    <tr>\n",
       "      <th>3</th>\n",
       "      <td>Action</td>\n",
       "      <td>1950</td>\n",
       "      <td>1.726175</td>\n",
       "    </tr>\n",
       "    <tr>\n",
       "      <th>4</th>\n",
       "      <td>Action</td>\n",
       "      <td>1952</td>\n",
       "      <td>8.988455</td>\n",
       "    </tr>\n",
       "  </tbody>\n",
       "</table>\n",
       "</div>"
      ],
      "text/plain": [
       "    genre  release_year  median_popularity\n",
       "0  Action          1930           8.484123\n",
       "1  Action          1936           2.968235\n",
       "2  Action          1949           3.851000\n",
       "3  Action          1950           1.726175\n",
       "4  Action          1952           8.988455"
      ]
     },
     "execution_count": 45,
     "metadata": {},
     "output_type": "execute_result"
    }
   ],
   "source": [
    "q1_agg = q1.groupby(['genre','release_year'], as_index=False)['popularity'].median().rename(columns={'popularity':'median_popularity'})\n",
    "print(q1_agg.shape)\n",
    "q1_agg.head()"
   ]
  },
  {
   "cell_type": "markdown",
   "metadata": {},
   "source": [
    "<ul><li>Create \"genre, release_year\" reference dataframe to be able calculate moving average popularity.</li></ul>"
   ]
  },
  {
   "cell_type": "code",
   "execution_count": 46,
   "metadata": {},
   "outputs": [
    {
     "data": {
      "text/plain": [
       "(1916, 2016)"
      ]
     },
     "execution_count": 46,
     "metadata": {},
     "output_type": "execute_result"
    }
   ],
   "source": [
    "q1_agg['release_year'].min(),q1_agg['release_year'].max()"
   ]
  },
  {
   "cell_type": "code",
   "execution_count": 47,
   "metadata": {
    "scrolled": false
   },
   "outputs": [],
   "source": [
    "years = np.arange(2016-1961+1) + 1961"
   ]
  },
  {
   "cell_type": "code",
   "execution_count": 48,
   "metadata": {
    "scrolled": true
   },
   "outputs": [],
   "source": [
    "genres = q1_agg['genre'].unique()"
   ]
  },
  {
   "cell_type": "code",
   "execution_count": 49,
   "metadata": {},
   "outputs": [
    {
     "data": {
      "text/html": [
       "<div>\n",
       "<style scoped>\n",
       "    .dataframe tbody tr th:only-of-type {\n",
       "        vertical-align: middle;\n",
       "    }\n",
       "\n",
       "    .dataframe tbody tr th {\n",
       "        vertical-align: top;\n",
       "    }\n",
       "\n",
       "    .dataframe thead th {\n",
       "        text-align: right;\n",
       "    }\n",
       "</style>\n",
       "<table border=\"1\" class=\"dataframe\">\n",
       "  <thead>\n",
       "    <tr style=\"text-align: right;\">\n",
       "      <th></th>\n",
       "      <th>genre</th>\n",
       "      <th>release_year</th>\n",
       "    </tr>\n",
       "  </thead>\n",
       "  <tbody>\n",
       "    <tr>\n",
       "      <th>0</th>\n",
       "      <td>Action</td>\n",
       "      <td>1961</td>\n",
       "    </tr>\n",
       "    <tr>\n",
       "      <th>1</th>\n",
       "      <td>Action</td>\n",
       "      <td>1962</td>\n",
       "    </tr>\n",
       "    <tr>\n",
       "      <th>2</th>\n",
       "      <td>Action</td>\n",
       "      <td>1963</td>\n",
       "    </tr>\n",
       "    <tr>\n",
       "      <th>3</th>\n",
       "      <td>Action</td>\n",
       "      <td>1964</td>\n",
       "    </tr>\n",
       "    <tr>\n",
       "      <th>4</th>\n",
       "      <td>Action</td>\n",
       "      <td>1965</td>\n",
       "    </tr>\n",
       "  </tbody>\n",
       "</table>\n",
       "</div>"
      ],
      "text/plain": [
       "    genre  release_year\n",
       "0  Action          1961\n",
       "1  Action          1962\n",
       "2  Action          1963\n",
       "3  Action          1964\n",
       "4  Action          1965"
      ]
     },
     "execution_count": 49,
     "metadata": {},
     "output_type": "execute_result"
    }
   ],
   "source": [
    "items = []\n",
    "for genre in genres:\n",
    "    for year in years:\n",
    "        items += [{'genre':genre,'release_year':year}]\n",
    "\n",
    "q1_agg_ref = pd.DataFrame(items)\n",
    "q1_agg_ref.head()"
   ]
  },
  {
   "cell_type": "markdown",
   "metadata": {},
   "source": [
    "<ul><li>Left join dataframe q1_agg_ref (reference of genre, year) and q1_agg (main data) to calculate moving average popularity.</li></ul>"
   ]
  },
  {
   "cell_type": "code",
   "execution_count": 50,
   "metadata": {},
   "outputs": [],
   "source": [
    "q1_agg2 = q1_agg_ref.merge(q1_agg,how='left',left_on=['genre','release_year'],right_on=['genre','release_year'])"
   ]
  },
  {
   "cell_type": "code",
   "execution_count": 51,
   "metadata": {
    "scrolled": true
   },
   "outputs": [
    {
     "data": {
      "text/html": [
       "<div>\n",
       "<style scoped>\n",
       "    .dataframe tbody tr th:only-of-type {\n",
       "        vertical-align: middle;\n",
       "    }\n",
       "\n",
       "    .dataframe tbody tr th {\n",
       "        vertical-align: top;\n",
       "    }\n",
       "\n",
       "    .dataframe thead th {\n",
       "        text-align: right;\n",
       "    }\n",
       "</style>\n",
       "<table border=\"1\" class=\"dataframe\">\n",
       "  <thead>\n",
       "    <tr style=\"text-align: right;\">\n",
       "      <th></th>\n",
       "      <th>genre</th>\n",
       "      <th>release_year</th>\n",
       "      <th>median_popularity</th>\n",
       "      <th>ma30_median_popularity</th>\n",
       "    </tr>\n",
       "  </thead>\n",
       "  <tbody>\n",
       "    <tr>\n",
       "      <th>37</th>\n",
       "      <td>Action</td>\n",
       "      <td>1998</td>\n",
       "      <td>19.711951</td>\n",
       "      <td>19.525392</td>\n",
       "    </tr>\n",
       "    <tr>\n",
       "      <th>38</th>\n",
       "      <td>Action</td>\n",
       "      <td>1999</td>\n",
       "      <td>17.561955</td>\n",
       "      <td>19.847373</td>\n",
       "    </tr>\n",
       "    <tr>\n",
       "      <th>39</th>\n",
       "      <td>Action</td>\n",
       "      <td>2000</td>\n",
       "      <td>14.655356</td>\n",
       "      <td>20.259696</td>\n",
       "    </tr>\n",
       "    <tr>\n",
       "      <th>40</th>\n",
       "      <td>Action</td>\n",
       "      <td>2001</td>\n",
       "      <td>15.205371</td>\n",
       "      <td>20.195080</td>\n",
       "    </tr>\n",
       "    <tr>\n",
       "      <th>41</th>\n",
       "      <td>Action</td>\n",
       "      <td>2002</td>\n",
       "      <td>21.605533</td>\n",
       "      <td>20.287641</td>\n",
       "    </tr>\n",
       "  </tbody>\n",
       "</table>\n",
       "</div>"
      ],
      "text/plain": [
       "     genre  release_year  median_popularity  ma30_median_popularity\n",
       "37  Action          1998          19.711951               19.525392\n",
       "38  Action          1999          17.561955               19.847373\n",
       "39  Action          2000          14.655356               20.259696\n",
       "40  Action          2001          15.205371               20.195080\n",
       "41  Action          2002          21.605533               20.287641"
      ]
     },
     "execution_count": 51,
     "metadata": {},
     "output_type": "execute_result"
    }
   ],
   "source": [
    "q1_agg2['ma30_median_popularity'] = q1_agg2.sort_values(by=['release_year'], ascending=True)\\\n",
    "                                        .groupby('genre')['median_popularity']\\\n",
    "                                        .rolling(30).mean()\\\n",
    "                                        .reset_index(drop=True, level=0)\n",
    "q1_agg2.dropna().head()"
   ]
  },
  {
   "cell_type": "code",
   "execution_count": 52,
   "metadata": {},
   "outputs": [],
   "source": [
    "q1_agg3 = q1_agg2.dropna()"
   ]
  },
  {
   "cell_type": "markdown",
   "metadata": {},
   "source": [
    "Calculate median of moving average popularity per year."
   ]
  },
  {
   "cell_type": "code",
   "execution_count": 53,
   "metadata": {},
   "outputs": [
    {
     "data": {
      "text/html": [
       "<div>\n",
       "<style scoped>\n",
       "    .dataframe tbody tr th:only-of-type {\n",
       "        vertical-align: middle;\n",
       "    }\n",
       "\n",
       "    .dataframe tbody tr th {\n",
       "        vertical-align: top;\n",
       "    }\n",
       "\n",
       "    .dataframe thead th {\n",
       "        text-align: right;\n",
       "    }\n",
       "</style>\n",
       "<table border=\"1\" class=\"dataframe\">\n",
       "  <thead>\n",
       "    <tr style=\"text-align: right;\">\n",
       "      <th></th>\n",
       "      <th>release_year</th>\n",
       "      <th>median_ma30_median_popularity</th>\n",
       "    </tr>\n",
       "  </thead>\n",
       "  <tbody>\n",
       "    <tr>\n",
       "      <th>29</th>\n",
       "      <td>1990</td>\n",
       "      <td>17.244604</td>\n",
       "    </tr>\n",
       "    <tr>\n",
       "      <th>30</th>\n",
       "      <td>1991</td>\n",
       "      <td>21.632530</td>\n",
       "    </tr>\n",
       "    <tr>\n",
       "      <th>31</th>\n",
       "      <td>1992</td>\n",
       "      <td>21.446916</td>\n",
       "    </tr>\n",
       "    <tr>\n",
       "      <th>32</th>\n",
       "      <td>1993</td>\n",
       "      <td>21.529895</td>\n",
       "    </tr>\n",
       "    <tr>\n",
       "      <th>33</th>\n",
       "      <td>1994</td>\n",
       "      <td>21.226770</td>\n",
       "    </tr>\n",
       "  </tbody>\n",
       "</table>\n",
       "</div>"
      ],
      "text/plain": [
       "    release_year  median_ma30_median_popularity\n",
       "29          1990                      17.244604\n",
       "30          1991                      21.632530\n",
       "31          1992                      21.446916\n",
       "32          1993                      21.529895\n",
       "33          1994                      21.226770"
      ]
     },
     "execution_count": 53,
     "metadata": {},
     "output_type": "execute_result"
    }
   ],
   "source": [
    "q1_median_year = q1_agg2.groupby('release_year', as_index=False)['ma30_median_popularity'].median()\n",
    "q1_median_year.rename(columns={'ma30_median_popularity':'median_ma30_median_popularity'}, inplace=True)\n",
    "q1_median_year = q1_median_year.dropna()\n",
    "q1_median_year.head()"
   ]
  },
  {
   "cell_type": "code",
   "execution_count": 54,
   "metadata": {},
   "outputs": [
    {
     "data": {
      "text/html": [
       "<div>\n",
       "<style scoped>\n",
       "    .dataframe tbody tr th:only-of-type {\n",
       "        vertical-align: middle;\n",
       "    }\n",
       "\n",
       "    .dataframe tbody tr th {\n",
       "        vertical-align: top;\n",
       "    }\n",
       "\n",
       "    .dataframe thead th {\n",
       "        text-align: right;\n",
       "    }\n",
       "</style>\n",
       "<table border=\"1\" class=\"dataframe\">\n",
       "  <thead>\n",
       "    <tr style=\"text-align: right;\">\n",
       "      <th></th>\n",
       "      <th>genre</th>\n",
       "      <th>release_year</th>\n",
       "      <th>median_popularity</th>\n",
       "      <th>ma30_median_popularity</th>\n",
       "    </tr>\n",
       "  </thead>\n",
       "  <tbody>\n",
       "    <tr>\n",
       "      <th>37</th>\n",
       "      <td>Action</td>\n",
       "      <td>1998</td>\n",
       "      <td>19.711951</td>\n",
       "      <td>19.525392</td>\n",
       "    </tr>\n",
       "    <tr>\n",
       "      <th>38</th>\n",
       "      <td>Action</td>\n",
       "      <td>1999</td>\n",
       "      <td>17.561955</td>\n",
       "      <td>19.847373</td>\n",
       "    </tr>\n",
       "    <tr>\n",
       "      <th>39</th>\n",
       "      <td>Action</td>\n",
       "      <td>2000</td>\n",
       "      <td>14.655356</td>\n",
       "      <td>20.259696</td>\n",
       "    </tr>\n",
       "    <tr>\n",
       "      <th>40</th>\n",
       "      <td>Action</td>\n",
       "      <td>2001</td>\n",
       "      <td>15.205371</td>\n",
       "      <td>20.195080</td>\n",
       "    </tr>\n",
       "    <tr>\n",
       "      <th>41</th>\n",
       "      <td>Action</td>\n",
       "      <td>2002</td>\n",
       "      <td>21.605533</td>\n",
       "      <td>20.287641</td>\n",
       "    </tr>\n",
       "  </tbody>\n",
       "</table>\n",
       "</div>"
      ],
      "text/plain": [
       "     genre  release_year  median_popularity  ma30_median_popularity\n",
       "37  Action          1998          19.711951               19.525392\n",
       "38  Action          1999          17.561955               19.847373\n",
       "39  Action          2000          14.655356               20.259696\n",
       "40  Action          2001          15.205371               20.195080\n",
       "41  Action          2002          21.605533               20.287641"
      ]
     },
     "execution_count": 54,
     "metadata": {},
     "output_type": "execute_result"
    }
   ],
   "source": [
    "q1_agg3 = q1_agg2.dropna()\n",
    "q1_agg3.head()"
   ]
  },
  {
   "cell_type": "markdown",
   "metadata": {},
   "source": [
    "Create multi-line chart: Genre Popularity Trends."
   ]
  },
  {
   "cell_type": "code",
   "execution_count": 55,
   "metadata": {
    "scrolled": true
   },
   "outputs": [
    {
     "data": {
      "image/png": "[encoded data removed]",
      "text/plain": [
       "<Figure size 1080x576 with 1 Axes>"
      ]
     },
     "metadata": {},
     "output_type": "display_data"
    }
   ],
   "source": [
    "# style\n",
    "plt.style.use('seaborn-darkgrid')\n",
    "plt.figure(figsize=(15,8))\n",
    "\n",
    "# create a color palette\n",
    "palette = plt.get_cmap('tab20')\n",
    "\n",
    "# multiple line plot\n",
    "num=0\n",
    "for genre in q1_agg3['genre'].unique():\n",
    "    plt.plot(q1_agg3[q1_agg3['genre']==genre].release_year,\n",
    "             q1_agg3[q1_agg3['genre']==genre].ma30_median_popularity, \n",
    "             marker='', color=palette(num),linewidth=1, alpha=0.9, label=genre);\n",
    "    num+=1\n",
    "\n",
    "plt.plot(q1_median_year.release_year,\n",
    "         q1_median_year.median_ma30_median_popularity, \n",
    "         marker='', color='gray', linewidth=1, alpha=0.9, linestyle='dashed', label='Median(30-year moving average popularity)');\n",
    "    \n",
    "# Add legend\n",
    "plt.legend(loc=2, ncol=2);\n",
    " \n",
    "# Add titles\n",
    "plt.title(\"Genre Popularity Trends\", loc='left', fontsize=20, fontweight=0, color='black');\n",
    "plt.xlabel(\"Release year\", fontsize=13);\n",
    "plt.ylabel(\"30-year moving average popularity\", fontsize=13);"
   ]
  },
  {
   "cell_type": "markdown",
   "metadata": {},
   "source": [
    "_Finding(s):_ <br/>\n",
    "Based on 30-year moving average popularity in 1990-2016, _**Fantasy, Adventure, Science Fiction, Action,**_ and _**Thiller**_ are the **most popular genres**. <br/>Those genres have 30-year moving average popularity higher than the median of 30-year moving average popularity."
   ]
  },
  {
   "cell_type": "markdown",
   "metadata": {},
   "source": [
    "### Question 2: How is the distribution of movie budget and movie revenue?"
   ]
  },
  {
   "cell_type": "markdown",
   "metadata": {},
   "source": [
    "Get summary stat of movie budget and movie revenue."
   ]
  },
  {
   "cell_type": "code",
   "execution_count": 56,
   "metadata": {
    "scrolled": true
   },
   "outputs": [
    {
     "data": {
      "text/html": [
       "<div>\n",
       "<style scoped>\n",
       "    .dataframe tbody tr th:only-of-type {\n",
       "        vertical-align: middle;\n",
       "    }\n",
       "\n",
       "    .dataframe tbody tr th {\n",
       "        vertical-align: top;\n",
       "    }\n",
       "\n",
       "    .dataframe thead th {\n",
       "        text-align: right;\n",
       "    }\n",
       "</style>\n",
       "<table border=\"1\" class=\"dataframe\">\n",
       "  <thead>\n",
       "    <tr style=\"text-align: right;\">\n",
       "      <th></th>\n",
       "      <th>id</th>\n",
       "      <th>budget</th>\n",
       "      <th>revenue</th>\n",
       "      <th>runtime</th>\n",
       "      <th>popularity</th>\n",
       "      <th>vote_average</th>\n",
       "      <th>vote_count</th>\n",
       "    </tr>\n",
       "  </thead>\n",
       "  <tbody>\n",
       "    <tr>\n",
       "      <th>count</th>\n",
       "      <td>3734.000000</td>\n",
       "      <td>3.734000e+03</td>\n",
       "      <td>3.734000e+03</td>\n",
       "      <td>3731.000000</td>\n",
       "      <td>3734.000000</td>\n",
       "      <td>3734.000000</td>\n",
       "      <td>3734.000000</td>\n",
       "    </tr>\n",
       "    <tr>\n",
       "      <th>mean</th>\n",
       "      <td>49661.312266</td>\n",
       "      <td>3.736029e+07</td>\n",
       "      <td>1.048403e+08</td>\n",
       "      <td>109.492093</td>\n",
       "      <td>26.175080</td>\n",
       "      <td>6.234574</td>\n",
       "      <td>863.242367</td>\n",
       "    </tr>\n",
       "    <tr>\n",
       "      <th>std</th>\n",
       "      <td>81330.797901</td>\n",
       "      <td>4.269019e+07</td>\n",
       "      <td>1.781406e+08</td>\n",
       "      <td>20.602237</td>\n",
       "      <td>34.519705</td>\n",
       "      <td>0.939710</td>\n",
       "      <td>1348.480126</td>\n",
       "    </tr>\n",
       "    <tr>\n",
       "      <th>min</th>\n",
       "      <td>5.000000</td>\n",
       "      <td>7.000000e+03</td>\n",
       "      <td>0.000000e+00</td>\n",
       "      <td>41.000000</td>\n",
       "      <td>0.001586</td>\n",
       "      <td>0.000000</td>\n",
       "      <td>0.000000</td>\n",
       "    </tr>\n",
       "    <tr>\n",
       "      <th>25%</th>\n",
       "      <td>6972.250000</td>\n",
       "      <td>8.550000e+06</td>\n",
       "      <td>6.743080e+06</td>\n",
       "      <td>95.000000</td>\n",
       "      <td>8.185175</td>\n",
       "      <td>5.700000</td>\n",
       "      <td>119.000000</td>\n",
       "    </tr>\n",
       "    <tr>\n",
       "      <th>50%</th>\n",
       "      <td>11972.000000</td>\n",
       "      <td>2.330000e+07</td>\n",
       "      <td>3.944905e+07</td>\n",
       "      <td>106.000000</td>\n",
       "      <td>17.709494</td>\n",
       "      <td>6.300000</td>\n",
       "      <td>371.500000</td>\n",
       "    </tr>\n",
       "    <tr>\n",
       "      <th>75%</th>\n",
       "      <td>49048.500000</td>\n",
       "      <td>5.000000e+07</td>\n",
       "      <td>1.226245e+08</td>\n",
       "      <td>120.000000</td>\n",
       "      <td>34.065604</td>\n",
       "      <td>6.900000</td>\n",
       "      <td>978.000000</td>\n",
       "    </tr>\n",
       "    <tr>\n",
       "      <th>max</th>\n",
       "      <td>417859.000000</td>\n",
       "      <td>3.800000e+08</td>\n",
       "      <td>2.787965e+09</td>\n",
       "      <td>338.000000</td>\n",
       "      <td>875.581305</td>\n",
       "      <td>8.500000</td>\n",
       "      <td>13752.000000</td>\n",
       "    </tr>\n",
       "  </tbody>\n",
       "</table>\n",
       "</div>"
      ],
      "text/plain": [
       "                  id        budget       revenue      runtime   popularity  \\\n",
       "count    3734.000000  3.734000e+03  3.734000e+03  3731.000000  3734.000000   \n",
       "mean    49661.312266  3.736029e+07  1.048403e+08   109.492093    26.175080   \n",
       "std     81330.797901  4.269019e+07  1.781406e+08    20.602237    34.519705   \n",
       "min         5.000000  7.000000e+03  0.000000e+00    41.000000     0.001586   \n",
       "25%      6972.250000  8.550000e+06  6.743080e+06    95.000000     8.185175   \n",
       "50%     11972.000000  2.330000e+07  3.944905e+07   106.000000    17.709494   \n",
       "75%     49048.500000  5.000000e+07  1.226245e+08   120.000000    34.065604   \n",
       "max    417859.000000  3.800000e+08  2.787965e+09   338.000000   875.581305   \n",
       "\n",
       "       vote_average    vote_count  \n",
       "count   3734.000000   3734.000000  \n",
       "mean       6.234574    863.242367  \n",
       "std        0.939710   1348.480126  \n",
       "min        0.000000      0.000000  \n",
       "25%        5.700000    119.000000  \n",
       "50%        6.300000    371.500000  \n",
       "75%        6.900000    978.000000  \n",
       "max        8.500000  13752.000000  "
      ]
     },
     "execution_count": 56,
     "metadata": {},
     "output_type": "execute_result"
    }
   ],
   "source": [
    "df_matrix.describe()"
   ]
  },
  {
   "cell_type": "code",
   "execution_count": 57,
   "metadata": {},
   "outputs": [
    {
     "data": {
      "image/png": "[encoded data removed]",
      "text/plain": [
       "<Figure size 576x360 with 1 Axes>"
      ]
     },
     "metadata": {},
     "output_type": "display_data"
    }
   ],
   "source": [
    "plt.figure(figsize=(8,5))\n",
    "plt.hist(df_matrix['budget']);\n",
    "plt.title(\"Movie Budget Distribution\", loc='left', fontsize=20, fontweight=0, color='black');\n",
    "plt.xlabel(\"Budget (USD)\", fontsize=13);\n",
    "plt.ylabel(\"Frequency\", fontsize=13);"
   ]
  },
  {
   "cell_type": "code",
   "execution_count": 58,
   "metadata": {
    "scrolled": true
   },
   "outputs": [
    {
     "data": {
      "image/png": "[encoded data removed]",
      "text/plain": [
       "<Figure size 576x360 with 1 Axes>"
      ]
     },
     "metadata": {},
     "output_type": "display_data"
    }
   ],
   "source": [
    "plt.figure(figsize=(8,5))\n",
    "plt.hist(df_matrix['revenue']);\n",
    "plt.title(\"Movie Revenue Distribution\", loc='left', fontsize=20, fontweight=0, color='black');\n",
    "plt.xlabel(\"Revenue (USD)\", fontsize=13);\n",
    "plt.ylabel(\"Frequency\", fontsize=13);"
   ]
  },
  {
   "cell_type": "markdown",
   "metadata": {},
   "source": [
    "Create histogram to show distribution of movie budget and movie revenue."
   ]
  },
  {
   "cell_type": "code",
   "execution_count": 59,
   "metadata": {
    "scrolled": true
   },
   "outputs": [
    {
     "data": {
      "image/png": "[encoded data removed]",
      "text/plain": [
       "<Figure size 720x360 with 1 Axes>"
      ]
     },
     "metadata": {},
     "output_type": "display_data"
    }
   ],
   "source": [
    "# Bin size 5e7\n",
    "bin_edges = np.arange(0, 2.787965e9, 1e7)\n",
    "\n",
    "plt.figure(figsize=(10,5));\n",
    "plt.hist(df_matrix['budget'], bins=bin_edges, alpha=0.3, color='orange', label='Budget');\n",
    "plt.hist(df_matrix['revenue'], bins=bin_edges, alpha=0.3, label='Revenue');\n",
    "\n",
    "plt.axvline(df_matrix['budget'].median(), color='orange', linestyle='dashed', linewidth=1, label='Median of Budget')\n",
    "plt.axvline(df_matrix['revenue'].median(), color='blue', linestyle='dashed', linewidth=1, label='Median of Revenue')\n",
    "\n",
    "# Set x-axis limit\n",
    "plt.xlim(0,5e8)\n",
    "\n",
    "# Add legend\n",
    "plt.legend(loc=1, ncol=1);\n",
    "\n",
    "# Add titles\n",
    "plt.title(\"Movie Budget and Revenue Distribution\", loc='left', fontsize=20, fontweight=0, color='black');\n",
    "plt.xlabel(\"$ (USD)\", fontsize=13);\n",
    "plt.ylabel(\"Frequency\", fontsize=13);"
   ]
  },
  {
   "cell_type": "markdown",
   "metadata": {},
   "source": [
    "_Finding(s):_ <br/>\n",
    "From 3734 observation data, 50% of movies have budget \\$23.3M USD \n",
    "and get revenue \\\\$39.4M USD."
   ]
  },
  {
   "cell_type": "markdown",
   "metadata": {},
   "source": [
    "### Question 3: What kinds of properties are associated with movies that have high revenues?\n"
   ]
  },
  {
   "cell_type": "markdown",
   "metadata": {},
   "source": [
    "Prepare data which contain movie properties.\n",
    "<ul><li>\n",
    "    Join df_matrix (to get all matrix), \n",
    "    df_mgenre (to get genres_count), \n",
    "    df_mkey (to get keywords_count), df_mlang (to get spoken_language_count),\n",
    "    df_mcompany (to get production_companies_count), df_mcountry (to get production_countries_count).\n",
    "    </li>\n",
    "</ul>"
   ]
  },
  {
   "cell_type": "code",
   "execution_count": 60,
   "metadata": {},
   "outputs": [
    {
     "name": "stdout",
     "output_type": "stream",
     "text": [
      "(3734, 12)\n"
     ]
    },
    {
     "data": {
      "text/html": [
       "<div>\n",
       "<style scoped>\n",
       "    .dataframe tbody tr th:only-of-type {\n",
       "        vertical-align: middle;\n",
       "    }\n",
       "\n",
       "    .dataframe tbody tr th {\n",
       "        vertical-align: top;\n",
       "    }\n",
       "\n",
       "    .dataframe thead th {\n",
       "        text-align: right;\n",
       "    }\n",
       "</style>\n",
       "<table border=\"1\" class=\"dataframe\">\n",
       "  <thead>\n",
       "    <tr style=\"text-align: right;\">\n",
       "      <th></th>\n",
       "      <th>id</th>\n",
       "      <th>budget</th>\n",
       "      <th>revenue</th>\n",
       "      <th>runtime</th>\n",
       "      <th>popularity</th>\n",
       "      <th>vote_average</th>\n",
       "      <th>vote_count</th>\n",
       "      <th>genres_count</th>\n",
       "      <th>keywords_count</th>\n",
       "      <th>production_companies_count</th>\n",
       "      <th>production_countries_count</th>\n",
       "      <th>spoken_languages_count</th>\n",
       "    </tr>\n",
       "  </thead>\n",
       "  <tbody>\n",
       "    <tr>\n",
       "      <th>0</th>\n",
       "      <td>19995</td>\n",
       "      <td>237000000.0</td>\n",
       "      <td>2.787965e+09</td>\n",
       "      <td>162.0</td>\n",
       "      <td>150.437577</td>\n",
       "      <td>7.2</td>\n",
       "      <td>11800</td>\n",
       "      <td>4</td>\n",
       "      <td>21</td>\n",
       "      <td>4</td>\n",
       "      <td>2</td>\n",
       "      <td>2</td>\n",
       "    </tr>\n",
       "    <tr>\n",
       "      <th>1</th>\n",
       "      <td>285</td>\n",
       "      <td>300000000.0</td>\n",
       "      <td>9.610000e+08</td>\n",
       "      <td>169.0</td>\n",
       "      <td>139.082615</td>\n",
       "      <td>6.9</td>\n",
       "      <td>4500</td>\n",
       "      <td>3</td>\n",
       "      <td>16</td>\n",
       "      <td>3</td>\n",
       "      <td>1</td>\n",
       "      <td>1</td>\n",
       "    </tr>\n",
       "    <tr>\n",
       "      <th>2</th>\n",
       "      <td>206647</td>\n",
       "      <td>245000000.0</td>\n",
       "      <td>8.806746e+08</td>\n",
       "      <td>148.0</td>\n",
       "      <td>107.376788</td>\n",
       "      <td>6.3</td>\n",
       "      <td>4466</td>\n",
       "      <td>3</td>\n",
       "      <td>7</td>\n",
       "      <td>3</td>\n",
       "      <td>2</td>\n",
       "      <td>5</td>\n",
       "    </tr>\n",
       "    <tr>\n",
       "      <th>3</th>\n",
       "      <td>49026</td>\n",
       "      <td>250000000.0</td>\n",
       "      <td>1.084939e+09</td>\n",
       "      <td>165.0</td>\n",
       "      <td>112.312950</td>\n",
       "      <td>7.6</td>\n",
       "      <td>9106</td>\n",
       "      <td>4</td>\n",
       "      <td>21</td>\n",
       "      <td>4</td>\n",
       "      <td>1</td>\n",
       "      <td>1</td>\n",
       "    </tr>\n",
       "    <tr>\n",
       "      <th>4</th>\n",
       "      <td>49529</td>\n",
       "      <td>260000000.0</td>\n",
       "      <td>2.841391e+08</td>\n",
       "      <td>132.0</td>\n",
       "      <td>43.926995</td>\n",
       "      <td>6.1</td>\n",
       "      <td>2124</td>\n",
       "      <td>3</td>\n",
       "      <td>16</td>\n",
       "      <td>1</td>\n",
       "      <td>1</td>\n",
       "      <td>1</td>\n",
       "    </tr>\n",
       "  </tbody>\n",
       "</table>\n",
       "</div>"
      ],
      "text/plain": [
       "       id       budget       revenue  runtime  popularity  vote_average  \\\n",
       "0   19995  237000000.0  2.787965e+09    162.0  150.437577           7.2   \n",
       "1     285  300000000.0  9.610000e+08    169.0  139.082615           6.9   \n",
       "2  206647  245000000.0  8.806746e+08    148.0  107.376788           6.3   \n",
       "3   49026  250000000.0  1.084939e+09    165.0  112.312950           7.6   \n",
       "4   49529  260000000.0  2.841391e+08    132.0   43.926995           6.1   \n",
       "\n",
       "   vote_count  genres_count  keywords_count  production_companies_count  \\\n",
       "0       11800             4              21                           4   \n",
       "1        4500             3              16                           3   \n",
       "2        4466             3               7                           3   \n",
       "3        9106             4              21                           4   \n",
       "4        2124             3              16                           1   \n",
       "\n",
       "   production_countries_count  spoken_languages_count  \n",
       "0                           2                       2  \n",
       "1                           1                       1  \n",
       "2                           2                       5  \n",
       "3                           1                       1  \n",
       "4                           1                       1  "
      ]
     },
     "execution_count": 60,
     "metadata": {},
     "output_type": "execute_result"
    }
   ],
   "source": [
    "q3 = df_matrix\\\n",
    "        .merge(df_mgenre.loc[:,['id','genres_count']], left_on='id', right_on='id', how='inner')\\\n",
    "        .merge(df_mkey.loc[:,['id','keywords_count']], left_on='id', right_on='id', how='inner')\\\n",
    "        .merge(df_mcompany.loc[:,['id','production_companies_count']], left_on='id', right_on='id', how='inner')\\\n",
    "        .merge(df_mcountry.loc[:,['id','production_countries_count']], left_on='id', right_on='id', how='inner')\\\n",
    "        .merge(df_mlang.loc[:,['id','spoken_languages_count']], left_on='id', right_on='id', how='inner')\n",
    "print(q3.shape)\n",
    "q3.head()"
   ]
  },
  {
   "cell_type": "markdown",
   "metadata": {},
   "source": [
    "Create correlation matrix chart."
   ]
  },
  {
   "cell_type": "code",
   "execution_count": 61,
   "metadata": {
    "scrolled": true
   },
   "outputs": [
    {
     "data": {
      "image/png": "[encoded data removed]",
      "text/plain": [
       "<Figure size 720x720 with 2 Axes>"
      ]
     },
     "metadata": {},
     "output_type": "display_data"
    }
   ],
   "source": [
    "corrs = (q3.iloc[:,1:]).corr()\n",
    "mask = np.zeros_like(corrs)\n",
    "mask[np.triu_indices_from(mask)] = True\n",
    "\n",
    "plt.figure(figsize=(10,10));\n",
    "sns.heatmap(corrs, cmap='RdBu', mask=mask, square=True, vmin=-1, vmax=1);\n",
    "\n",
    "# Add titles\n",
    "plt.title(\"Movie Properties Correlation Matrix\", loc='left', fontsize=20, fontweight=0, color='black');\n",
    "plt.xlabel(\"Properties\", fontsize=13);\n",
    "plt.ylabel(\"Properties\", fontsize=13);"
   ]
  },
  {
   "cell_type": "markdown",
   "metadata": {},
   "source": [
    "See data to get supporting idea in insight generation."
   ]
  },
  {
   "cell_type": "code",
   "execution_count": 62,
   "metadata": {
    "scrolled": true
   },
   "outputs": [
    {
     "data": {
      "text/plain": [
       "budget        0.708876\n",
       "revenue       1.000000\n",
       "popularity    0.619365\n",
       "vote_count    0.767056\n",
       "Name: revenue, dtype: float64"
      ]
     },
     "execution_count": 62,
     "metadata": {},
     "output_type": "execute_result"
    }
   ],
   "source": [
    "corrs[corrs['revenue']>=0.5].revenue"
   ]
  },
  {
   "cell_type": "markdown",
   "metadata": {},
   "source": [
    "_Finding(s):_ <br/>\n",
    "From 3734 observation data that we select from TMDB Movie Dataset, _**number of votes, budget amount,** and **movie popularity**_ score are properties which have **moderate positive correlation with revenue**."
   ]
  },
  {
   "cell_type": "markdown",
   "metadata": {},
   "source": [
    "<a id='conclusions'></a>\n",
    "## Conclusions\n",
    "\n",
    "- **Originally, we get 4803 observations** with 20 columns from TMDb movie data (source: <a href='https://www.kaggle.com/tmdb/tmdb-movie-metadata/data?select=tmdb_5000_movies.csv'>Kaggle</a>).\n",
    "- We didn't found any duplicate data in the dataset.\n",
    "- We did data cleaning which resulted **only 3734 observations that will be used in exploration data analysis**. \n",
    "<ul>\n",
    "<li>Fix wrong data types for release_date (str to datetime), revenue (int to float), and budget (int to float) columns.</li>\n",
    "<li>Remove 1069 observations due to missing release_date data and invalid budget data (budget less than $1000 USD).</li>\n",
    "<li>Replace runtime value with None for 2 observations which have runtime equal to 0.</li>\n",
    "<li>Standardize multiple values format by using ';' separator for genres, keywords, production_companies, production_countries, and spoken_language columns.</li>\n",
    "<li>Create separate genre dataframe which contain data which is the result of normalization from column genres to be able to answer research question: Which genres are most popular from year to year?</li>\n",
    "</ul>\n",
    "- We used cleaned dataset which contains 3734 observations in exploratory data analysis. Here are insights that we get from answeing research questions:\n",
    "<ul>\n",
    "<li>Based on 30-year moving average popularity in 1990-2016, Fantasy, Adventure, Science Fiction, Action, and Thiller are the most popular genres. Those genres have 30-year moving average popularity higher than the median of 30-year moving average popularity.</li>\n",
    "<li>From statistic summary of moview budget and revenue, 50% of movies have budget \\$23.3M USD and get revenue \\$39.4M USD.</li>\n",
    "<li>Number of votes, budget amount, and movie popularity score are properties which have moderate positive correlation with revenue.</li>\n",
    "</ul>"
   ]
  },
  {
   "cell_type": "markdown",
   "metadata": {},
   "source": [
    "<a id='references'></a>\n",
    "## References\n",
    "<ul>\n",
    "    <li><a href='https://www.kaggle.com/tmdb/tmdb-movie-metadata/data?select=tmdb_5000_movies.csv'>TMDB 5000 Movie Dataset</a>, Kaggle</li>\n",
    "    <li><a href='https://towardsdatascience.com/sql-window-functions-in-python-pandas-data-science-dc7c7a63cbb4'>SQL-like window functions in Pandas</a>, Towards Data Science</li>\n",
    "    <li><a href='https://seaborn.pydata.org/generated/seaborn.boxplot.html'>Seaborn Boxplot</a>, Seaborn Pydata</li>\n",
    "    <li><a href='https://python-graph-gallery.com/124-spaghetti-plot/'>Spaghetti Plot</a>, Python Graph Gallery</li>\n",
    "    <li><a href='https://raphaelvallat.com/correlation.html'>Correlation(s) in Python</a>, Raphael Vallat</li>\n",
    "</ul>"
   ]
  },
  {
   "cell_type": "markdown",
   "metadata": {},
   "source": [
    "<a id='References'></a>"
   ]
  }
 ],
 "metadata": {
  "kernelspec": {
   "display_name": "Python 3",
   "language": "python",
   "name": "python3"
  },
  "language_info": {
   "codemirror_mode": {
    "name": "ipython",
    "version": 3
   },
   "file_extension": ".py",
   "mimetype": "text/x-python",
   "name": "python",
   "nbconvert_exporter": "python",
   "pygments_lexer": "ipython3",
   "version": "3.7.6"
  }
 },
 "nbformat": 4,
 "nbformat_minor": 2
}
